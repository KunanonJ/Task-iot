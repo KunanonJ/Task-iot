{
  "nbformat": 4,
  "nbformat_minor": 0,
  "metadata": {
    "kernelspec": {
      "name": "python3",
      "display_name": "Python 3.9.1 64-bit",
      "metadata": {
        "interpreter": {
          "hash": "ac2eaa0ea0ebeafcc7822e65e46aa9d4f966f30b695406963e145ea4a91cd4fc"
        }
      }
    },
    "language_info": {
      "codemirror_mode": {
        "name": "ipython",
        "version": 3
      },
      "file_extension": ".py",
      "mimetype": "text/x-python",
      "name": "python",
      "nbconvert_exporter": "python",
      "pygments_lexer": "ipython3",
      "version": "3.9.1-final"
    },
    "colab": {
      "name": "HW1en_question.ipynb",
      "provenance": []
    }
  },
  "cells": [
    {
      "cell_type": "markdown",
      "metadata": {
        "id": "xWbkODPodbEt"
      },
      "source": [
        "<div align=\"right\">Revision 1A : January 2021</div>\n",
        "<div align=\"left\">Embedded Systems & IoT courses\n",
        "<br>Instructor : Dr.Varodom Toochinda\n",
        "<br>Dept. of Mechanical Engineering, Kasetsart University\n",
        "</div>    "
      ]
    },
    {
      "cell_type": "markdown",
      "metadata": {
        "id": "IlS9HZ9gdbE0"
      },
      "source": [
        "<a href=\"https://colab.research.google.com/github/dewdotninja/embedded_iot/blob/master/hws/HW1en_question.ipynb\" target=\"_parent\"><img src=\"https://colab.research.google.com/assets/colab-badge.svg\" alt=\"Open In Colab\"/></a>"
      ]
    },
    {
      "cell_type": "markdown",
      "metadata": {
        "id": "KaWM2e_SdbE1"
      },
      "source": [
        "## HW#1: Find current and voltage at diode by load-line and numerical methods\n",
        "<img src=\"https://drive.google.com/uc?id=11Vy3Hho7zkzrDqoKTiw_PUj48shXkLjL\" />\n",
        "<br>i-v characteristic of diode\n",
        "\n",
        "$$i_D = I_{SAT}\\Bigg(exp\\Bigg(\\frac{v_D}{kT/q}\\Bigg)-1\\Bigg)$$\n",
        "\n",
        "at room temperature $I_{SAT} = 10^{-12} A, \\frac{kT}{q} = 0.0259\\; V$\n",
        "\n",
        "Given $R_T = 22 \\;\\Omega, V_T = 12 \\;V$\n",
        "\n"
      ]
    },
    {
      "cell_type": "markdown",
      "metadata": {
        "id": "oO1mIv-KdbE1"
      },
      "source": [
        "### 1. Load-line method\n",
        "<img src=\"https://drive.google.com/uc?id=1B6diClIx-YoBa2C6yAZOTfUukRu9X3Q4\" width=450 />\n",
        "\n",
        "<img src=\"https://drive.google.com/uc?id=1PWsOlnJX_QYl3dALzUBOl7icb9usSczw\" width=450 />\n"
      ]
    },
    {
      "cell_type": "code",
      "metadata": {
        "id": "0LAon4VIdbE2"
      },
      "source": [
        "import numpy as np\n",
        "import matplotlib.pyplot as plt"
      ],
      "execution_count": 1,
      "outputs": []
    },
    {
      "cell_type": "code",
      "metadata": {
        "id": "RVTiEfgjdbE5"
      },
      "source": [],
      "execution_count": null,
      "outputs": []
    },
    {
      "cell_type": "markdown",
      "metadata": {
        "id": "3L40_FwjdbE5"
      },
      "source": [
        "### 2.Numeriacl method\n",
        "\n",
        "<p />Write a program according to this flowchart\n",
        "<img src=\"https://drive.google.com/uc?id=1FXyx7jBZWRUGFgueOXJjihJYnjsAkhkd\" width=550 />"
      ]
    },
    {
      "cell_type": "code",
      "metadata": {
        "id": "IfGFRWi8dbE6"
      },
      "source": [
        "import numpy as np"
      ],
      "execution_count": null,
      "outputs": []
    }
  ]
}