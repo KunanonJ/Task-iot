{
  "nbformat": 4,
  "nbformat_minor": 0,
  "metadata": {
    "kernelspec": {
      "name": "python3",
      "display_name": "Python 3.9.2 64-bit",
      "metadata": {
        "interpreter": {
          "hash": "ac2eaa0ea0ebeafcc7822e65e46aa9d4f966f30b695406963e145ea4a91cd4fc"
        }
      }
    },
    "language_info": {
      "codemirror_mode": {
        "name": "ipython",
        "version": 3
      },
      "file_extension": ".py",
      "mimetype": "text/x-python",
      "name": "python",
      "nbconvert_exporter": "python",
      "pygments_lexer": "ipython3",
      "version": "3.9.2-final"
    },
    "colab": {
      "name": "midterm01205479_20.ipynb",
      "provenance": []
    }
  },
  "cells": [
    {
      "cell_type": "markdown",
      "metadata": {
        "id": "mXKNVR6fq3b1"
      },
      "source": [
        "<a href=\"https://colab.research.google.com/github/dewdotninja/exams/blob/master/midterm01205479_20.ipynb\" target=\"_parent\"><img src=\"https://colab.research.google.com/assets/colab-badge.svg\" alt=\"Open In Colab\"/></a>"
      ]
    },
    {
      "cell_type": "markdown",
      "metadata": {
        "id": "GzJGDtHeq3b9"
      },
      "source": [
        "<p align=\"left\">\n",
        "<img src=\"https://raw.githubusercontent.com/dewdotninja/exams/main/feng_heading_en.png\" width=400 alt=\"Feng heading\"/>\n",
        "</p>\n",
        "\n",
        "#### Midterm Exam, Second Semester, Academic Year 2020\n",
        "<br>01205479 Internet of Things for Electrial Engineering\n",
        "<br>Wednesday March 3, 2021 13.00 - 16.00\n",
        "<br>This exam is administered online via Google classroom only.\n",
        "\n",
        "Type student name - surname and ID in the cell below.\n"
      ]
    },
    {
      "cell_type": "code",
      "metadata": {
        "id": "zxnV-MaAq3b-"
      },
      "source": [
        "Kunanon Jarat 6010554802"
      ],
      "execution_count": null,
      "outputs": []
    },
    {
      "cell_type": "markdown",
      "metadata": {
        "id": "u7-LyfmCq3b-"
      },
      "source": [
        "### Instructions\n",
        "\n",
        "1. You can use Colab environment or install Jupyter notebook on your local machine. \n",
        "Type your work solely on this notebook. You can add as many cells as you want. \n",
        "Formatting is not necessary as long as your texts/equations are understandable and \n",
        "answer the question clearly.\n",
        "2. Open books, notes and online resources.\n",
        "3. Explain clearly. Show details of your computation to receive full credits. For any problem \n",
        "that requires programming, your program should executer without error and give the correct \n",
        "result.\n",
        "4. Do not change any problem. \n",
        "5. Some parameters in the problem set may be a function of your student ID. You must make sure \n",
        "to substitute the right value for such parameters.\n",
        "6. In case you are totally hopeless with Python, the only other softwares that are allowed are MATLAB \n",
        "and Scilab. Students must provide complete MATLAB/Scilab scripts and also capture the \n",
        "output/graph images to the notebook by using the image tag with image files in a public URL.\n",
        "If some relevant information is missing, you may receive only partial credit. Since this is a \n",
        "time-consuming process and may be problematic, doing all your work with Python in Jupyter notebook\n",
        "is strongly recommended.\n",
        "7. The difficulty of each problem is indicated by level (1 = basic, 2 = intermediate, 3 = advanced). Normally, you\n",
        "should attempt to start with easy ones.\n",
        "8. <b>Important : </b>Students must submit your notebook promptly, in Google classroom only,\n",
        "when the 3-hour exam period expires. Resubmission is acceptable only within the exam period. \n",
        "<br><em>Anyone who submits/resubmits later than 10 minutes after the exam period, as indicated in the \n",
        "recorded history of Google classroom, may be considered cheating and may fail this exam.</em>\n",
        "\n"
      ]
    },
    {
      "cell_type": "markdown",
      "metadata": {
        "id": "QZOnb4lXq3b_"
      },
      "source": [
        "***\n",
        "<div align=\"left\">\n",
        "<b>Assoc. Prof. Peerayuth Charnsethikul</b>  &emsp;      Head of Examination Committee\n",
        "<br><b>Asst. Prof. Nithiphat Teerakawanich</b>  &emsp;     Examination Committee\n",
        "<br><b>Dr. Varodom Toochinda</b>    &emsp;    Examination Committee\n",
        "</div>\n"
      ]
    },
    {
      "cell_type": "markdown",
      "metadata": {
        "id": "CaUUjTKIq3b_"
      },
      "source": [
        "#### Further explantion about exam problem that may depend on the last 3 digits of your student ID\n",
        "\n",
        "-------xyz (other digits are disregarded)\n",
        "\n",
        "In case any digit in the last 3 are 0, it must be replaced by 5.\n",
        "\n",
        "#### Examples\n",
        "    \n",
        "Student A's ID - 6010555853 results in x = 8, y = 5, z = 3\n",
        "\n",
        "Student B 's ID - 6010546104 results in x = 1, y = 5, z = 4\n",
        "\n",
        "Student C 's ID - 6310055032 results in x = 5, y = 3, z = 2\n",
        "    \n",
        "These valuess are used for all the problems in the exam where x,y,and/or z appear. In this \n",
        "sense, the results from each student should be different even computed using the same methods.\n",
        "\n",
        "Operations that may be applied to the variables.\n",
        "\n",
        "$+$ addition\n",
        "\n",
        " $-$  subtraction\n",
        "\n",
        " $*$  multiplication \n",
        "\n",
        " $/$ division\n",
        "\n",
        "$**$ raise to the power (For example, x**z means $x^z$)\n",
        "\n",
        "including math opertions such as $\\exp(x)$, $\\sin(z*t)$\n",
        "\n",
        "If a variable is embedded in some digit of a value without any operation symbol, \n",
        "just replace that digit. \n",
        "<br>For example,  z=8 y = 3 $\\Rightarrow$ 12z7 = 1287, 4.3y5 = 4.335\n",
        "\n",
        "Conditional statement may be used, such as\n",
        "if x<5 do task A, otherwise do task B\n",
        "\n",
        "<em>Example: </em> Let $R1 = 1000*x \\,\\Omega, C1 = 10*y \\,\\mu F$\n",
        "\n",
        "<ul>\n",
        "<li />Student A (x=8, y=5) does this problem with R1 = 8000 $\\Omega$, C1 = 50 $\\mu$F\n",
        "<li />Student B (x=1, y=5) does this problem with R1 = 1000 $\\Omega$, C1 = 50 $\\mu$F\n",
        "<li />Student C (x=5, y=3) does this problem with R1 = 5000 $\\Omega$, C1 = 30 $\\mu$F\n",
        "</ul>\n",
        "\n",
        "If any exam problem is not clear enough, write in a cell how you interpret it. If several \n",
        "students get confused on that problem, the grader may decide to give full credit to all.\n",
        "\n"
      ]
    },
    {
      "cell_type": "code",
      "metadata": {
        "id": "Ln9GGoviq3b_"
      },
      "source": [
        "# You need to install these libraries in the Colab environment\n",
        "!pip install slycot\n",
        "!pip install control"
      ],
      "execution_count": null,
      "outputs": []
    },
    {
      "cell_type": "code",
      "metadata": {
        "id": "hINi7pxuq3cA"
      },
      "source": [
        "# import libraries you want to use\n",
        "import numpy as np\n",
        "import matplotlib.pyplot as plt\n",
        "import control as ctl"
      ],
      "execution_count": 5,
      "outputs": []
    },
    {
      "cell_type": "markdown",
      "metadata": {
        "id": "lWZrPh4Cq3cA"
      },
      "source": [
        "***\n",
        "### List of exam problems (100 points)\n",
        "\n",
        "* [P1. (10 points)(level 1)](#p1)\n",
        "* [P2. (10 points)(level 1)](#p2)\n",
        "* [P3. (10 points)(level 1)](#p3)\n",
        "* [P4. (15 points)(level 3)](#p4)\n",
        "* [P5. (20 points)(level 1)](#p5)\n",
        "* [P6. (15 points)(level 2)](#p6)\n",
        "* [P7. (10 points)(level 2)](#p7)\n",
        "* [P8. (10 points)(level 3)](#p8)"
      ]
    },
    {
      "cell_type": "code",
      "execution_count": 6,
      "metadata": {},
      "outputs": [],
      "source": [
        "X = 8\n",
        "Y = 5 # 0 replaced by 5\n",
        "Z = 2"
      ]
    },
    {
      "cell_type": "markdown",
      "metadata": {
        "id": "kbwdjJNoq3cA"
      },
      "source": [
        "***\n",
        "<a id=\"p1\"></a>\n",
        "#### P1. (10 points)(level 1)\n",
        "<br>An LPF can be constructed using RL circuit as shown in Figure 1. \n",
        "<p align=\"center\">\n",
        "<img src=\"https://drive.google.com/uc?id=1J5KSsS2yip9ZoyKvDxVYhalm2P7U-IWt\" width=250 alt=\"Figure 1\"/>\n",
        "</p>\n",
        "<div align=\"center\"><b>Figure 1 An LPF using RL circuit</b></div>\n",
        "<ol>\n",
        "<li />Choose values for R and L to yield $1y0$ Hz cutoff frequency (5 points)\n",
        "<br>(For example, if $y=3$, cutoff frequency = $130$ Hz.)\n",
        "<li />Verify the cutoff frequency using Bode plot  (5 points)\n",
        "</ol>"
      ]
    },
    {
      "cell_type": "code",
      "metadata": {
        "id": "RHaMKNbOq3cA"
      },
      "source": [
        "R = 80000\n",
        "L = 84.88\n",
        "H = ctl.tf(R,[L,1])\n",
        "Fc = Y\n",
        "print(f\"My cutoff frequency is 1{Fc}0 HZ\")"
      ],
      "execution_count": 7,
      "outputs": [
        {
          "output_type": "stream",
          "name": "stdout",
          "text": [
            "My cutoff frequency is 150 HZ\n"
          ]
        }
      ]
    },
    {
      "cell_type": "code",
      "execution_count": 5,
      "metadata": {},
      "outputs": [
        {
          "output_type": "display_data",
          "data": {
            "text/plain": "<Figure size 432x288 with 2 Axes>",
            "image/svg+xml": "<?xml version=\"1.0\" encoding=\"utf-8\" standalone=\"no\"?>\n<!DOCTYPE svg PUBLIC \"-//W3C//DTD SVG 1.1//EN\"\n  \"http://www.w3.org/Graphics/SVG/1.1/DTD/svg11.dtd\">\n<!-- Created with matplotlib (https://matplotlib.org/) -->\n<svg height=\"262.19625pt\" version=\"1.1\" viewBox=\"0 0 390.982812 262.19625\" width=\"390.982812pt\" xmlns=\"http://www.w3.org/2000/svg\" xmlns:xlink=\"http://www.w3.org/1999/xlink\">\n <metadata>\n  <rdf:RDF xmlns:cc=\"http://creativecommons.org/ns#\" xmlns:dc=\"http://purl.org/dc/elements/1.1/\" xmlns:rdf=\"http://www.w3.org/1999/02/22-rdf-syntax-ns#\">\n   <cc:Work>\n    <dc:type rdf:resource=\"http://purl.org/dc/dcmitype/StillImage\"/>\n    <dc:date>2021-03-03T13:24:48.366284</dc:date>\n    <dc:format>image/svg+xml</dc:format>\n    <dc:creator>\n     <cc:Agent>\n      <dc:title>Matplotlib v3.3.3, https://matplotlib.org/</dc:title>\n     </cc:Agent>\n    </dc:creator>\n   </cc:Work>\n  </rdf:RDF>\n </metadata>\n <defs>\n  <style type=\"text/css\">*{stroke-linecap:butt;stroke-linejoin:round;}</style>\n </defs>\n <g id=\"figure_1\">\n  <g id=\"patch_1\">\n   <path d=\"M 0 262.19625 \nL 390.982812 262.19625 \nL 390.982812 -0 \nL 0 -0 \nz\n\" style=\"fill:none;\"/>\n  </g>\n  <g id=\"axes_1\">\n   <g id=\"patch_2\">\n    <path d=\"M 48.982813 106.036364 \nL 383.782813 106.036364 \nL 383.782813 7.2 \nL 48.982813 7.2 \nz\n\" style=\"fill:#ffffff;\"/>\n   </g>\n   <g id=\"matplotlib.axis_1\">\n    <g id=\"xtick_1\">\n     <g id=\"line2d_1\">\n      <path clip-path=\"url(#pdecf18f996)\" d=\"M 64.200994 106.036364 \nL 64.200994 7.2 \n\" style=\"fill:none;stroke:#b0b0b0;stroke-linecap:square;stroke-width:0.8;\"/>\n     </g>\n     <g id=\"line2d_2\">\n      <defs>\n       <path d=\"M 0 0 \nL 0 3.5 \n\" id=\"m4968cde9c8\" style=\"stroke:#000000;stroke-width:0.8;\"/>\n      </defs>\n      <g>\n       <use style=\"stroke:#000000;stroke-width:0.8;\" x=\"64.200994\" xlink:href=\"#m4968cde9c8\" y=\"106.036364\"/>\n      </g>\n     </g>\n     <g id=\"text_1\">\n      <!-- $\\mathdefault{10^{-2}}$ -->\n      <g transform=\"translate(52.450994 120.634801)scale(0.1 -0.1)\">\n       <defs>\n        <path d=\"M 12.40625 8.296875 \nL 28.515625 8.296875 \nL 28.515625 63.921875 \nL 10.984375 60.40625 \nL 10.984375 69.390625 \nL 28.421875 72.90625 \nL 38.28125 72.90625 \nL 38.28125 8.296875 \nL 54.390625 8.296875 \nL 54.390625 0 \nL 12.40625 0 \nz\n\" id=\"DejaVuSans-49\"/>\n        <path d=\"M 31.78125 66.40625 \nQ 24.171875 66.40625 20.328125 58.90625 \nQ 16.5 51.421875 16.5 36.375 \nQ 16.5 21.390625 20.328125 13.890625 \nQ 24.171875 6.390625 31.78125 6.390625 \nQ 39.453125 6.390625 43.28125 13.890625 \nQ 47.125 21.390625 47.125 36.375 \nQ 47.125 51.421875 43.28125 58.90625 \nQ 39.453125 66.40625 31.78125 66.40625 \nz\nM 31.78125 74.21875 \nQ 44.046875 74.21875 50.515625 64.515625 \nQ 56.984375 54.828125 56.984375 36.375 \nQ 56.984375 17.96875 50.515625 8.265625 \nQ 44.046875 -1.421875 31.78125 -1.421875 \nQ 19.53125 -1.421875 13.0625 8.265625 \nQ 6.59375 17.96875 6.59375 36.375 \nQ 6.59375 54.828125 13.0625 64.515625 \nQ 19.53125 74.21875 31.78125 74.21875 \nz\n\" id=\"DejaVuSans-48\"/>\n        <path d=\"M 10.59375 35.5 \nL 73.1875 35.5 \nL 73.1875 27.203125 \nL 10.59375 27.203125 \nz\n\" id=\"DejaVuSans-8722\"/>\n        <path d=\"M 19.1875 8.296875 \nL 53.609375 8.296875 \nL 53.609375 0 \nL 7.328125 0 \nL 7.328125 8.296875 \nQ 12.9375 14.109375 22.625 23.890625 \nQ 32.328125 33.6875 34.8125 36.53125 \nQ 39.546875 41.84375 41.421875 45.53125 \nQ 43.3125 49.21875 43.3125 52.78125 \nQ 43.3125 58.59375 39.234375 62.25 \nQ 35.15625 65.921875 28.609375 65.921875 \nQ 23.96875 65.921875 18.8125 64.3125 \nQ 13.671875 62.703125 7.8125 59.421875 \nL 7.8125 69.390625 \nQ 13.765625 71.78125 18.9375 73 \nQ 24.125 74.21875 28.421875 74.21875 \nQ 39.75 74.21875 46.484375 68.546875 \nQ 53.21875 62.890625 53.21875 53.421875 \nQ 53.21875 48.921875 51.53125 44.890625 \nQ 49.859375 40.875 45.40625 35.40625 \nQ 44.1875 33.984375 37.640625 27.21875 \nQ 31.109375 20.453125 19.1875 8.296875 \nz\n\" id=\"DejaVuSans-50\"/>\n       </defs>\n       <use transform=\"translate(0 0.765625)\" xlink:href=\"#DejaVuSans-49\"/>\n       <use transform=\"translate(63.623047 0.765625)\" xlink:href=\"#DejaVuSans-48\"/>\n       <use transform=\"translate(128.203125 39.046875)scale(0.7)\" xlink:href=\"#DejaVuSans-8722\"/>\n       <use transform=\"translate(186.855469 39.046875)scale(0.7)\" xlink:href=\"#DejaVuSans-50\"/>\n      </g>\n     </g>\n    </g>\n    <g id=\"xtick_2\">\n     <g id=\"line2d_3\">\n      <path clip-path=\"url(#pdecf18f996)\" d=\"M 165.65554 106.036364 \nL 165.65554 7.2 \n\" style=\"fill:none;stroke:#b0b0b0;stroke-linecap:square;stroke-width:0.8;\"/>\n     </g>\n     <g id=\"line2d_4\">\n      <g>\n       <use style=\"stroke:#000000;stroke-width:0.8;\" x=\"165.65554\" xlink:href=\"#m4968cde9c8\" y=\"106.036364\"/>\n      </g>\n     </g>\n     <g id=\"text_2\">\n      <!-- $\\mathdefault{10^{-1}}$ -->\n      <g transform=\"translate(153.90554 120.634801)scale(0.1 -0.1)\">\n       <use transform=\"translate(0 0.684375)\" xlink:href=\"#DejaVuSans-49\"/>\n       <use transform=\"translate(63.623047 0.684375)\" xlink:href=\"#DejaVuSans-48\"/>\n       <use transform=\"translate(128.203125 38.965625)scale(0.7)\" xlink:href=\"#DejaVuSans-8722\"/>\n       <use transform=\"translate(186.855469 38.965625)scale(0.7)\" xlink:href=\"#DejaVuSans-49\"/>\n      </g>\n     </g>\n    </g>\n    <g id=\"xtick_3\">\n     <g id=\"line2d_5\">\n      <path clip-path=\"url(#pdecf18f996)\" d=\"M 267.110085 106.036364 \nL 267.110085 7.2 \n\" style=\"fill:none;stroke:#b0b0b0;stroke-linecap:square;stroke-width:0.8;\"/>\n     </g>\n     <g id=\"line2d_6\">\n      <g>\n       <use style=\"stroke:#000000;stroke-width:0.8;\" x=\"267.110085\" xlink:href=\"#m4968cde9c8\" y=\"106.036364\"/>\n      </g>\n     </g>\n     <g id=\"text_3\">\n      <!-- $\\mathdefault{10^{0}}$ -->\n      <g transform=\"translate(258.310085 120.634801)scale(0.1 -0.1)\">\n       <use transform=\"translate(0 0.765625)\" xlink:href=\"#DejaVuSans-49\"/>\n       <use transform=\"translate(63.623047 0.765625)\" xlink:href=\"#DejaVuSans-48\"/>\n       <use transform=\"translate(128.203125 39.046875)scale(0.7)\" xlink:href=\"#DejaVuSans-48\"/>\n      </g>\n     </g>\n    </g>\n    <g id=\"xtick_4\">\n     <g id=\"line2d_7\">\n      <path clip-path=\"url(#pdecf18f996)\" d=\"M 368.564631 106.036364 \nL 368.564631 7.2 \n\" style=\"fill:none;stroke:#b0b0b0;stroke-linecap:square;stroke-width:0.8;\"/>\n     </g>\n     <g id=\"line2d_8\">\n      <g>\n       <use style=\"stroke:#000000;stroke-width:0.8;\" x=\"368.564631\" xlink:href=\"#m4968cde9c8\" y=\"106.036364\"/>\n      </g>\n     </g>\n     <g id=\"text_4\">\n      <!-- $\\mathdefault{10^{1}}$ -->\n      <g transform=\"translate(359.764631 120.634801)scale(0.1 -0.1)\">\n       <use transform=\"translate(0 0.684375)\" xlink:href=\"#DejaVuSans-49\"/>\n       <use transform=\"translate(63.623047 0.684375)\" xlink:href=\"#DejaVuSans-48\"/>\n       <use transform=\"translate(128.203125 38.965625)scale(0.7)\" xlink:href=\"#DejaVuSans-49\"/>\n      </g>\n     </g>\n    </g>\n    <g id=\"xtick_5\">\n     <g id=\"line2d_9\">\n      <path clip-path=\"url(#pdecf18f996)\" d=\"M 54.369033 106.036364 \nL 54.369033 7.2 \n\" style=\"fill:none;stroke:#b0b0b0;stroke-linecap:square;stroke-width:0.8;\"/>\n     </g>\n     <g id=\"line2d_10\">\n      <defs>\n       <path d=\"M 0 0 \nL 0 2 \n\" id=\"ma28d77f46b\" style=\"stroke:#000000;stroke-width:0.6;\"/>\n      </defs>\n      <g>\n       <use style=\"stroke:#000000;stroke-width:0.6;\" x=\"54.369033\" xlink:href=\"#ma28d77f46b\" y=\"106.036364\"/>\n      </g>\n     </g>\n    </g>\n    <g id=\"xtick_6\">\n     <g id=\"line2d_11\">\n      <path clip-path=\"url(#pdecf18f996)\" d=\"M 59.558689 106.036364 \nL 59.558689 7.2 \n\" style=\"fill:none;stroke:#b0b0b0;stroke-linecap:square;stroke-width:0.8;\"/>\n     </g>\n     <g id=\"line2d_12\">\n      <g>\n       <use style=\"stroke:#000000;stroke-width:0.6;\" x=\"59.558689\" xlink:href=\"#ma28d77f46b\" y=\"106.036364\"/>\n      </g>\n     </g>\n    </g>\n    <g id=\"xtick_7\">\n     <g id=\"line2d_13\">\n      <path clip-path=\"url(#pdecf18f996)\" d=\"M 94.741856 106.036364 \nL 94.741856 7.2 \n\" style=\"fill:none;stroke:#b0b0b0;stroke-linecap:square;stroke-width:0.8;\"/>\n     </g>\n     <g id=\"line2d_14\">\n      <g>\n       <use style=\"stroke:#000000;stroke-width:0.6;\" x=\"94.741856\" xlink:href=\"#ma28d77f46b\" y=\"106.036364\"/>\n      </g>\n     </g>\n    </g>\n    <g id=\"xtick_8\">\n     <g id=\"line2d_15\">\n      <path clip-path=\"url(#pdecf18f996)\" d=\"M 112.607114 106.036364 \nL 112.607114 7.2 \n\" style=\"fill:none;stroke:#b0b0b0;stroke-linecap:square;stroke-width:0.8;\"/>\n     </g>\n     <g id=\"line2d_16\">\n      <g>\n       <use style=\"stroke:#000000;stroke-width:0.6;\" x=\"112.607114\" xlink:href=\"#ma28d77f46b\" y=\"106.036364\"/>\n      </g>\n     </g>\n    </g>\n    <g id=\"xtick_9\">\n     <g id=\"line2d_17\">\n      <path clip-path=\"url(#pdecf18f996)\" d=\"M 125.282717 106.036364 \nL 125.282717 7.2 \n\" style=\"fill:none;stroke:#b0b0b0;stroke-linecap:square;stroke-width:0.8;\"/>\n     </g>\n     <g id=\"line2d_18\">\n      <g>\n       <use style=\"stroke:#000000;stroke-width:0.6;\" x=\"125.282717\" xlink:href=\"#ma28d77f46b\" y=\"106.036364\"/>\n      </g>\n     </g>\n    </g>\n    <g id=\"xtick_10\">\n     <g id=\"line2d_19\">\n      <path clip-path=\"url(#pdecf18f996)\" d=\"M 135.114678 106.036364 \nL 135.114678 7.2 \n\" style=\"fill:none;stroke:#b0b0b0;stroke-linecap:square;stroke-width:0.8;\"/>\n     </g>\n     <g id=\"line2d_20\">\n      <g>\n       <use style=\"stroke:#000000;stroke-width:0.6;\" x=\"135.114678\" xlink:href=\"#ma28d77f46b\" y=\"106.036364\"/>\n      </g>\n     </g>\n    </g>\n    <g id=\"xtick_11\">\n     <g id=\"line2d_21\">\n      <path clip-path=\"url(#pdecf18f996)\" d=\"M 143.147976 106.036364 \nL 143.147976 7.2 \n\" style=\"fill:none;stroke:#b0b0b0;stroke-linecap:square;stroke-width:0.8;\"/>\n     </g>\n     <g id=\"line2d_22\">\n      <g>\n       <use style=\"stroke:#000000;stroke-width:0.6;\" x=\"143.147976\" xlink:href=\"#ma28d77f46b\" y=\"106.036364\"/>\n      </g>\n     </g>\n    </g>\n    <g id=\"xtick_12\">\n     <g id=\"line2d_23\">\n      <path clip-path=\"url(#pdecf18f996)\" d=\"M 149.940032 106.036364 \nL 149.940032 7.2 \n\" style=\"fill:none;stroke:#b0b0b0;stroke-linecap:square;stroke-width:0.8;\"/>\n     </g>\n     <g id=\"line2d_24\">\n      <g>\n       <use style=\"stroke:#000000;stroke-width:0.6;\" x=\"149.940032\" xlink:href=\"#ma28d77f46b\" y=\"106.036364\"/>\n      </g>\n     </g>\n    </g>\n    <g id=\"xtick_13\">\n     <g id=\"line2d_25\">\n      <path clip-path=\"url(#pdecf18f996)\" d=\"M 155.823578 106.036364 \nL 155.823578 7.2 \n\" style=\"fill:none;stroke:#b0b0b0;stroke-linecap:square;stroke-width:0.8;\"/>\n     </g>\n     <g id=\"line2d_26\">\n      <g>\n       <use style=\"stroke:#000000;stroke-width:0.6;\" x=\"155.823578\" xlink:href=\"#ma28d77f46b\" y=\"106.036364\"/>\n      </g>\n     </g>\n    </g>\n    <g id=\"xtick_14\">\n     <g id=\"line2d_27\">\n      <path clip-path=\"url(#pdecf18f996)\" d=\"M 161.013234 106.036364 \nL 161.013234 7.2 \n\" style=\"fill:none;stroke:#b0b0b0;stroke-linecap:square;stroke-width:0.8;\"/>\n     </g>\n     <g id=\"line2d_28\">\n      <g>\n       <use style=\"stroke:#000000;stroke-width:0.6;\" x=\"161.013234\" xlink:href=\"#ma28d77f46b\" y=\"106.036364\"/>\n      </g>\n     </g>\n    </g>\n    <g id=\"xtick_15\">\n     <g id=\"line2d_29\">\n      <path clip-path=\"url(#pdecf18f996)\" d=\"M 196.196401 106.036364 \nL 196.196401 7.2 \n\" style=\"fill:none;stroke:#b0b0b0;stroke-linecap:square;stroke-width:0.8;\"/>\n     </g>\n     <g id=\"line2d_30\">\n      <g>\n       <use style=\"stroke:#000000;stroke-width:0.6;\" x=\"196.196401\" xlink:href=\"#ma28d77f46b\" y=\"106.036364\"/>\n      </g>\n     </g>\n    </g>\n    <g id=\"xtick_16\">\n     <g id=\"line2d_31\">\n      <path clip-path=\"url(#pdecf18f996)\" d=\"M 214.06166 106.036364 \nL 214.06166 7.2 \n\" style=\"fill:none;stroke:#b0b0b0;stroke-linecap:square;stroke-width:0.8;\"/>\n     </g>\n     <g id=\"line2d_32\">\n      <g>\n       <use style=\"stroke:#000000;stroke-width:0.6;\" x=\"214.06166\" xlink:href=\"#ma28d77f46b\" y=\"106.036364\"/>\n      </g>\n     </g>\n    </g>\n    <g id=\"xtick_17\">\n     <g id=\"line2d_33\">\n      <path clip-path=\"url(#pdecf18f996)\" d=\"M 226.737263 106.036364 \nL 226.737263 7.2 \n\" style=\"fill:none;stroke:#b0b0b0;stroke-linecap:square;stroke-width:0.8;\"/>\n     </g>\n     <g id=\"line2d_34\">\n      <g>\n       <use style=\"stroke:#000000;stroke-width:0.6;\" x=\"226.737263\" xlink:href=\"#ma28d77f46b\" y=\"106.036364\"/>\n      </g>\n     </g>\n    </g>\n    <g id=\"xtick_18\">\n     <g id=\"line2d_35\">\n      <path clip-path=\"url(#pdecf18f996)\" d=\"M 236.569224 106.036364 \nL 236.569224 7.2 \n\" style=\"fill:none;stroke:#b0b0b0;stroke-linecap:square;stroke-width:0.8;\"/>\n     </g>\n     <g id=\"line2d_36\">\n      <g>\n       <use style=\"stroke:#000000;stroke-width:0.6;\" x=\"236.569224\" xlink:href=\"#ma28d77f46b\" y=\"106.036364\"/>\n      </g>\n     </g>\n    </g>\n    <g id=\"xtick_19\">\n     <g id=\"line2d_37\">\n      <path clip-path=\"url(#pdecf18f996)\" d=\"M 244.602521 106.036364 \nL 244.602521 7.2 \n\" style=\"fill:none;stroke:#b0b0b0;stroke-linecap:square;stroke-width:0.8;\"/>\n     </g>\n     <g id=\"line2d_38\">\n      <g>\n       <use style=\"stroke:#000000;stroke-width:0.6;\" x=\"244.602521\" xlink:href=\"#ma28d77f46b\" y=\"106.036364\"/>\n      </g>\n     </g>\n    </g>\n    <g id=\"xtick_20\">\n     <g id=\"line2d_39\">\n      <path clip-path=\"url(#pdecf18f996)\" d=\"M 251.394577 106.036364 \nL 251.394577 7.2 \n\" style=\"fill:none;stroke:#b0b0b0;stroke-linecap:square;stroke-width:0.8;\"/>\n     </g>\n     <g id=\"line2d_40\">\n      <g>\n       <use style=\"stroke:#000000;stroke-width:0.6;\" x=\"251.394577\" xlink:href=\"#ma28d77f46b\" y=\"106.036364\"/>\n      </g>\n     </g>\n    </g>\n    <g id=\"xtick_21\">\n     <g id=\"line2d_41\">\n      <path clip-path=\"url(#pdecf18f996)\" d=\"M 257.278124 106.036364 \nL 257.278124 7.2 \n\" style=\"fill:none;stroke:#b0b0b0;stroke-linecap:square;stroke-width:0.8;\"/>\n     </g>\n     <g id=\"line2d_42\">\n      <g>\n       <use style=\"stroke:#000000;stroke-width:0.6;\" x=\"257.278124\" xlink:href=\"#ma28d77f46b\" y=\"106.036364\"/>\n      </g>\n     </g>\n    </g>\n    <g id=\"xtick_22\">\n     <g id=\"line2d_43\">\n      <path clip-path=\"url(#pdecf18f996)\" d=\"M 262.46778 106.036364 \nL 262.46778 7.2 \n\" style=\"fill:none;stroke:#b0b0b0;stroke-linecap:square;stroke-width:0.8;\"/>\n     </g>\n     <g id=\"line2d_44\">\n      <g>\n       <use style=\"stroke:#000000;stroke-width:0.6;\" x=\"262.46778\" xlink:href=\"#ma28d77f46b\" y=\"106.036364\"/>\n      </g>\n     </g>\n    </g>\n    <g id=\"xtick_23\">\n     <g id=\"line2d_45\">\n      <path clip-path=\"url(#pdecf18f996)\" d=\"M 297.650947 106.036364 \nL 297.650947 7.2 \n\" style=\"fill:none;stroke:#b0b0b0;stroke-linecap:square;stroke-width:0.8;\"/>\n     </g>\n     <g id=\"line2d_46\">\n      <g>\n       <use style=\"stroke:#000000;stroke-width:0.6;\" x=\"297.650947\" xlink:href=\"#ma28d77f46b\" y=\"106.036364\"/>\n      </g>\n     </g>\n    </g>\n    <g id=\"xtick_24\">\n     <g id=\"line2d_47\">\n      <path clip-path=\"url(#pdecf18f996)\" d=\"M 315.516205 106.036364 \nL 315.516205 7.2 \n\" style=\"fill:none;stroke:#b0b0b0;stroke-linecap:square;stroke-width:0.8;\"/>\n     </g>\n     <g id=\"line2d_48\">\n      <g>\n       <use style=\"stroke:#000000;stroke-width:0.6;\" x=\"315.516205\" xlink:href=\"#ma28d77f46b\" y=\"106.036364\"/>\n      </g>\n     </g>\n    </g>\n    <g id=\"xtick_25\">\n     <g id=\"line2d_49\">\n      <path clip-path=\"url(#pdecf18f996)\" d=\"M 328.191808 106.036364 \nL 328.191808 7.2 \n\" style=\"fill:none;stroke:#b0b0b0;stroke-linecap:square;stroke-width:0.8;\"/>\n     </g>\n     <g id=\"line2d_50\">\n      <g>\n       <use style=\"stroke:#000000;stroke-width:0.6;\" x=\"328.191808\" xlink:href=\"#ma28d77f46b\" y=\"106.036364\"/>\n      </g>\n     </g>\n    </g>\n    <g id=\"xtick_26\">\n     <g id=\"line2d_51\">\n      <path clip-path=\"url(#pdecf18f996)\" d=\"M 338.023769 106.036364 \nL 338.023769 7.2 \n\" style=\"fill:none;stroke:#b0b0b0;stroke-linecap:square;stroke-width:0.8;\"/>\n     </g>\n     <g id=\"line2d_52\">\n      <g>\n       <use style=\"stroke:#000000;stroke-width:0.6;\" x=\"338.023769\" xlink:href=\"#ma28d77f46b\" y=\"106.036364\"/>\n      </g>\n     </g>\n    </g>\n    <g id=\"xtick_27\">\n     <g id=\"line2d_53\">\n      <path clip-path=\"url(#pdecf18f996)\" d=\"M 346.057067 106.036364 \nL 346.057067 7.2 \n\" style=\"fill:none;stroke:#b0b0b0;stroke-linecap:square;stroke-width:0.8;\"/>\n     </g>\n     <g id=\"line2d_54\">\n      <g>\n       <use style=\"stroke:#000000;stroke-width:0.6;\" x=\"346.057067\" xlink:href=\"#ma28d77f46b\" y=\"106.036364\"/>\n      </g>\n     </g>\n    </g>\n    <g id=\"xtick_28\">\n     <g id=\"line2d_55\">\n      <path clip-path=\"url(#pdecf18f996)\" d=\"M 352.849123 106.036364 \nL 352.849123 7.2 \n\" style=\"fill:none;stroke:#b0b0b0;stroke-linecap:square;stroke-width:0.8;\"/>\n     </g>\n     <g id=\"line2d_56\">\n      <g>\n       <use style=\"stroke:#000000;stroke-width:0.6;\" x=\"352.849123\" xlink:href=\"#ma28d77f46b\" y=\"106.036364\"/>\n      </g>\n     </g>\n    </g>\n    <g id=\"xtick_29\">\n     <g id=\"line2d_57\">\n      <path clip-path=\"url(#pdecf18f996)\" d=\"M 358.732669 106.036364 \nL 358.732669 7.2 \n\" style=\"fill:none;stroke:#b0b0b0;stroke-linecap:square;stroke-width:0.8;\"/>\n     </g>\n     <g id=\"line2d_58\">\n      <g>\n       <use style=\"stroke:#000000;stroke-width:0.6;\" x=\"358.732669\" xlink:href=\"#ma28d77f46b\" y=\"106.036364\"/>\n      </g>\n     </g>\n    </g>\n    <g id=\"xtick_30\">\n     <g id=\"line2d_59\">\n      <path clip-path=\"url(#pdecf18f996)\" d=\"M 363.922325 106.036364 \nL 363.922325 7.2 \n\" style=\"fill:none;stroke:#b0b0b0;stroke-linecap:square;stroke-width:0.8;\"/>\n     </g>\n     <g id=\"line2d_60\">\n      <g>\n       <use style=\"stroke:#000000;stroke-width:0.6;\" x=\"363.922325\" xlink:href=\"#ma28d77f46b\" y=\"106.036364\"/>\n      </g>\n     </g>\n    </g>\n   </g>\n   <g id=\"matplotlib.axis_2\">\n    <g id=\"ytick_1\">\n     <g id=\"line2d_61\">\n      <path clip-path=\"url(#pdecf18f996)\" d=\"M 48.982813 100.721817 \nL 383.782813 100.721817 \n\" style=\"fill:none;stroke:#b0b0b0;stroke-linecap:square;stroke-width:0.8;\"/>\n     </g>\n     <g id=\"line2d_62\">\n      <defs>\n       <path d=\"M 0 0 \nL -3.5 0 \n\" id=\"m1a702a0627\" style=\"stroke:#000000;stroke-width:0.8;\"/>\n      </defs>\n      <g>\n       <use style=\"stroke:#000000;stroke-width:0.8;\" x=\"48.982813\" xlink:href=\"#m1a702a0627\" y=\"100.721817\"/>\n      </g>\n     </g>\n     <g id=\"text_5\">\n      <!-- 40 -->\n      <g transform=\"translate(29.257812 104.521035)scale(0.1 -0.1)\">\n       <defs>\n        <path d=\"M 37.796875 64.3125 \nL 12.890625 25.390625 \nL 37.796875 25.390625 \nz\nM 35.203125 72.90625 \nL 47.609375 72.90625 \nL 47.609375 25.390625 \nL 58.015625 25.390625 \nL 58.015625 17.1875 \nL 47.609375 17.1875 \nL 47.609375 0 \nL 37.796875 0 \nL 37.796875 17.1875 \nL 4.890625 17.1875 \nL 4.890625 26.703125 \nz\n\" id=\"DejaVuSans-52\"/>\n       </defs>\n       <use xlink:href=\"#DejaVuSans-52\"/>\n       <use x=\"63.623047\" xlink:href=\"#DejaVuSans-48\"/>\n      </g>\n     </g>\n    </g>\n    <g id=\"ytick_2\">\n     <g id=\"line2d_63\">\n      <path clip-path=\"url(#pdecf18f996)\" d=\"M 48.982813 68.757471 \nL 383.782813 68.757471 \n\" style=\"fill:none;stroke:#b0b0b0;stroke-linecap:square;stroke-width:0.8;\"/>\n     </g>\n     <g id=\"line2d_64\">\n      <g>\n       <use style=\"stroke:#000000;stroke-width:0.8;\" x=\"48.982813\" xlink:href=\"#m1a702a0627\" y=\"68.757471\"/>\n      </g>\n     </g>\n     <g id=\"text_6\">\n      <!-- 60 -->\n      <g transform=\"translate(29.257812 72.556689)scale(0.1 -0.1)\">\n       <defs>\n        <path d=\"M 33.015625 40.375 \nQ 26.375 40.375 22.484375 35.828125 \nQ 18.609375 31.296875 18.609375 23.390625 \nQ 18.609375 15.53125 22.484375 10.953125 \nQ 26.375 6.390625 33.015625 6.390625 \nQ 39.65625 6.390625 43.53125 10.953125 \nQ 47.40625 15.53125 47.40625 23.390625 \nQ 47.40625 31.296875 43.53125 35.828125 \nQ 39.65625 40.375 33.015625 40.375 \nz\nM 52.59375 71.296875 \nL 52.59375 62.3125 \nQ 48.875 64.0625 45.09375 64.984375 \nQ 41.3125 65.921875 37.59375 65.921875 \nQ 27.828125 65.921875 22.671875 59.328125 \nQ 17.53125 52.734375 16.796875 39.40625 \nQ 19.671875 43.65625 24.015625 45.921875 \nQ 28.375 48.1875 33.59375 48.1875 \nQ 44.578125 48.1875 50.953125 41.515625 \nQ 57.328125 34.859375 57.328125 23.390625 \nQ 57.328125 12.15625 50.6875 5.359375 \nQ 44.046875 -1.421875 33.015625 -1.421875 \nQ 20.359375 -1.421875 13.671875 8.265625 \nQ 6.984375 17.96875 6.984375 36.375 \nQ 6.984375 53.65625 15.1875 63.9375 \nQ 23.390625 74.21875 37.203125 74.21875 \nQ 40.921875 74.21875 44.703125 73.484375 \nQ 48.484375 72.75 52.59375 71.296875 \nz\n\" id=\"DejaVuSans-54\"/>\n       </defs>\n       <use xlink:href=\"#DejaVuSans-54\"/>\n       <use x=\"63.623047\" xlink:href=\"#DejaVuSans-48\"/>\n      </g>\n     </g>\n    </g>\n    <g id=\"ytick_3\">\n     <g id=\"line2d_65\">\n      <path clip-path=\"url(#pdecf18f996)\" d=\"M 48.982813 36.793125 \nL 383.782813 36.793125 \n\" style=\"fill:none;stroke:#b0b0b0;stroke-linecap:square;stroke-width:0.8;\"/>\n     </g>\n     <g id=\"line2d_66\">\n      <g>\n       <use style=\"stroke:#000000;stroke-width:0.8;\" x=\"48.982813\" xlink:href=\"#m1a702a0627\" y=\"36.793125\"/>\n      </g>\n     </g>\n     <g id=\"text_7\">\n      <!-- 80 -->\n      <g transform=\"translate(29.257812 40.592343)scale(0.1 -0.1)\">\n       <defs>\n        <path d=\"M 31.78125 34.625 \nQ 24.75 34.625 20.71875 30.859375 \nQ 16.703125 27.09375 16.703125 20.515625 \nQ 16.703125 13.921875 20.71875 10.15625 \nQ 24.75 6.390625 31.78125 6.390625 \nQ 38.8125 6.390625 42.859375 10.171875 \nQ 46.921875 13.96875 46.921875 20.515625 \nQ 46.921875 27.09375 42.890625 30.859375 \nQ 38.875 34.625 31.78125 34.625 \nz\nM 21.921875 38.8125 \nQ 15.578125 40.375 12.03125 44.71875 \nQ 8.5 49.078125 8.5 55.328125 \nQ 8.5 64.0625 14.71875 69.140625 \nQ 20.953125 74.21875 31.78125 74.21875 \nQ 42.671875 74.21875 48.875 69.140625 \nQ 55.078125 64.0625 55.078125 55.328125 \nQ 55.078125 49.078125 51.53125 44.71875 \nQ 48 40.375 41.703125 38.8125 \nQ 48.828125 37.15625 52.796875 32.3125 \nQ 56.78125 27.484375 56.78125 20.515625 \nQ 56.78125 9.90625 50.3125 4.234375 \nQ 43.84375 -1.421875 31.78125 -1.421875 \nQ 19.734375 -1.421875 13.25 4.234375 \nQ 6.78125 9.90625 6.78125 20.515625 \nQ 6.78125 27.484375 10.78125 32.3125 \nQ 14.796875 37.15625 21.921875 38.8125 \nz\nM 18.3125 54.390625 \nQ 18.3125 48.734375 21.84375 45.5625 \nQ 25.390625 42.390625 31.78125 42.390625 \nQ 38.140625 42.390625 41.71875 45.5625 \nQ 45.3125 48.734375 45.3125 54.390625 \nQ 45.3125 60.0625 41.71875 63.234375 \nQ 38.140625 66.40625 31.78125 66.40625 \nQ 25.390625 66.40625 21.84375 63.234375 \nQ 18.3125 60.0625 18.3125 54.390625 \nz\n\" id=\"DejaVuSans-56\"/>\n       </defs>\n       <use xlink:href=\"#DejaVuSans-56\"/>\n       <use x=\"63.623047\" xlink:href=\"#DejaVuSans-48\"/>\n      </g>\n     </g>\n    </g>\n    <g id=\"text_8\">\n     <!-- Magnitude (dB) -->\n     <g transform=\"translate(23.178125 95.203338)rotate(-90)scale(0.1 -0.1)\">\n      <defs>\n       <path d=\"M 9.8125 72.90625 \nL 24.515625 72.90625 \nL 43.109375 23.296875 \nL 61.8125 72.90625 \nL 76.515625 72.90625 \nL 76.515625 0 \nL 66.890625 0 \nL 66.890625 64.015625 \nL 48.09375 14.015625 \nL 38.1875 14.015625 \nL 19.390625 64.015625 \nL 19.390625 0 \nL 9.8125 0 \nz\n\" id=\"DejaVuSans-77\"/>\n       <path d=\"M 34.28125 27.484375 \nQ 23.390625 27.484375 19.1875 25 \nQ 14.984375 22.515625 14.984375 16.5 \nQ 14.984375 11.71875 18.140625 8.90625 \nQ 21.296875 6.109375 26.703125 6.109375 \nQ 34.1875 6.109375 38.703125 11.40625 \nQ 43.21875 16.703125 43.21875 25.484375 \nL 43.21875 27.484375 \nz\nM 52.203125 31.203125 \nL 52.203125 0 \nL 43.21875 0 \nL 43.21875 8.296875 \nQ 40.140625 3.328125 35.546875 0.953125 \nQ 30.953125 -1.421875 24.3125 -1.421875 \nQ 15.921875 -1.421875 10.953125 3.296875 \nQ 6 8.015625 6 15.921875 \nQ 6 25.140625 12.171875 29.828125 \nQ 18.359375 34.515625 30.609375 34.515625 \nL 43.21875 34.515625 \nL 43.21875 35.40625 \nQ 43.21875 41.609375 39.140625 45 \nQ 35.0625 48.390625 27.6875 48.390625 \nQ 23 48.390625 18.546875 47.265625 \nQ 14.109375 46.140625 10.015625 43.890625 \nL 10.015625 52.203125 \nQ 14.9375 54.109375 19.578125 55.046875 \nQ 24.21875 56 28.609375 56 \nQ 40.484375 56 46.34375 49.84375 \nQ 52.203125 43.703125 52.203125 31.203125 \nz\n\" id=\"DejaVuSans-97\"/>\n       <path d=\"M 45.40625 27.984375 \nQ 45.40625 37.75 41.375 43.109375 \nQ 37.359375 48.484375 30.078125 48.484375 \nQ 22.859375 48.484375 18.828125 43.109375 \nQ 14.796875 37.75 14.796875 27.984375 \nQ 14.796875 18.265625 18.828125 12.890625 \nQ 22.859375 7.515625 30.078125 7.515625 \nQ 37.359375 7.515625 41.375 12.890625 \nQ 45.40625 18.265625 45.40625 27.984375 \nz\nM 54.390625 6.78125 \nQ 54.390625 -7.171875 48.1875 -13.984375 \nQ 42 -20.796875 29.203125 -20.796875 \nQ 24.46875 -20.796875 20.265625 -20.09375 \nQ 16.0625 -19.390625 12.109375 -17.921875 \nL 12.109375 -9.1875 \nQ 16.0625 -11.328125 19.921875 -12.34375 \nQ 23.78125 -13.375 27.78125 -13.375 \nQ 36.625 -13.375 41.015625 -8.765625 \nQ 45.40625 -4.15625 45.40625 5.171875 \nL 45.40625 9.625 \nQ 42.625 4.78125 38.28125 2.390625 \nQ 33.9375 0 27.875 0 \nQ 17.828125 0 11.671875 7.65625 \nQ 5.515625 15.328125 5.515625 27.984375 \nQ 5.515625 40.671875 11.671875 48.328125 \nQ 17.828125 56 27.875 56 \nQ 33.9375 56 38.28125 53.609375 \nQ 42.625 51.21875 45.40625 46.390625 \nL 45.40625 54.6875 \nL 54.390625 54.6875 \nz\n\" id=\"DejaVuSans-103\"/>\n       <path d=\"M 54.890625 33.015625 \nL 54.890625 0 \nL 45.90625 0 \nL 45.90625 32.71875 \nQ 45.90625 40.484375 42.875 44.328125 \nQ 39.84375 48.1875 33.796875 48.1875 \nQ 26.515625 48.1875 22.3125 43.546875 \nQ 18.109375 38.921875 18.109375 30.90625 \nL 18.109375 0 \nL 9.078125 0 \nL 9.078125 54.6875 \nL 18.109375 54.6875 \nL 18.109375 46.1875 \nQ 21.34375 51.125 25.703125 53.5625 \nQ 30.078125 56 35.796875 56 \nQ 45.21875 56 50.046875 50.171875 \nQ 54.890625 44.34375 54.890625 33.015625 \nz\n\" id=\"DejaVuSans-110\"/>\n       <path d=\"M 9.421875 54.6875 \nL 18.40625 54.6875 \nL 18.40625 0 \nL 9.421875 0 \nz\nM 9.421875 75.984375 \nL 18.40625 75.984375 \nL 18.40625 64.59375 \nL 9.421875 64.59375 \nz\n\" id=\"DejaVuSans-105\"/>\n       <path d=\"M 18.3125 70.21875 \nL 18.3125 54.6875 \nL 36.8125 54.6875 \nL 36.8125 47.703125 \nL 18.3125 47.703125 \nL 18.3125 18.015625 \nQ 18.3125 11.328125 20.140625 9.421875 \nQ 21.96875 7.515625 27.59375 7.515625 \nL 36.8125 7.515625 \nL 36.8125 0 \nL 27.59375 0 \nQ 17.1875 0 13.234375 3.875 \nQ 9.28125 7.765625 9.28125 18.015625 \nL 9.28125 47.703125 \nL 2.6875 47.703125 \nL 2.6875 54.6875 \nL 9.28125 54.6875 \nL 9.28125 70.21875 \nz\n\" id=\"DejaVuSans-116\"/>\n       <path d=\"M 8.5 21.578125 \nL 8.5 54.6875 \nL 17.484375 54.6875 \nL 17.484375 21.921875 \nQ 17.484375 14.15625 20.5 10.265625 \nQ 23.53125 6.390625 29.59375 6.390625 \nQ 36.859375 6.390625 41.078125 11.03125 \nQ 45.3125 15.671875 45.3125 23.6875 \nL 45.3125 54.6875 \nL 54.296875 54.6875 \nL 54.296875 0 \nL 45.3125 0 \nL 45.3125 8.40625 \nQ 42.046875 3.421875 37.71875 1 \nQ 33.40625 -1.421875 27.6875 -1.421875 \nQ 18.265625 -1.421875 13.375 4.4375 \nQ 8.5 10.296875 8.5 21.578125 \nz\nM 31.109375 56 \nz\n\" id=\"DejaVuSans-117\"/>\n       <path d=\"M 45.40625 46.390625 \nL 45.40625 75.984375 \nL 54.390625 75.984375 \nL 54.390625 0 \nL 45.40625 0 \nL 45.40625 8.203125 \nQ 42.578125 3.328125 38.25 0.953125 \nQ 33.9375 -1.421875 27.875 -1.421875 \nQ 17.96875 -1.421875 11.734375 6.484375 \nQ 5.515625 14.40625 5.515625 27.296875 \nQ 5.515625 40.1875 11.734375 48.09375 \nQ 17.96875 56 27.875 56 \nQ 33.9375 56 38.25 53.625 \nQ 42.578125 51.265625 45.40625 46.390625 \nz\nM 14.796875 27.296875 \nQ 14.796875 17.390625 18.875 11.75 \nQ 22.953125 6.109375 30.078125 6.109375 \nQ 37.203125 6.109375 41.296875 11.75 \nQ 45.40625 17.390625 45.40625 27.296875 \nQ 45.40625 37.203125 41.296875 42.84375 \nQ 37.203125 48.484375 30.078125 48.484375 \nQ 22.953125 48.484375 18.875 42.84375 \nQ 14.796875 37.203125 14.796875 27.296875 \nz\n\" id=\"DejaVuSans-100\"/>\n       <path d=\"M 56.203125 29.59375 \nL 56.203125 25.203125 \nL 14.890625 25.203125 \nQ 15.484375 15.921875 20.484375 11.0625 \nQ 25.484375 6.203125 34.421875 6.203125 \nQ 39.59375 6.203125 44.453125 7.46875 \nQ 49.3125 8.734375 54.109375 11.28125 \nL 54.109375 2.78125 \nQ 49.265625 0.734375 44.1875 -0.34375 \nQ 39.109375 -1.421875 33.890625 -1.421875 \nQ 20.796875 -1.421875 13.15625 6.1875 \nQ 5.515625 13.8125 5.515625 26.8125 \nQ 5.515625 40.234375 12.765625 48.109375 \nQ 20.015625 56 32.328125 56 \nQ 43.359375 56 49.78125 48.890625 \nQ 56.203125 41.796875 56.203125 29.59375 \nz\nM 47.21875 32.234375 \nQ 47.125 39.59375 43.09375 43.984375 \nQ 39.0625 48.390625 32.421875 48.390625 \nQ 24.90625 48.390625 20.390625 44.140625 \nQ 15.875 39.890625 15.1875 32.171875 \nz\n\" id=\"DejaVuSans-101\"/>\n       <path id=\"DejaVuSans-32\"/>\n       <path d=\"M 31 75.875 \nQ 24.46875 64.65625 21.28125 53.65625 \nQ 18.109375 42.671875 18.109375 31.390625 \nQ 18.109375 20.125 21.3125 9.0625 \nQ 24.515625 -2 31 -13.1875 \nL 23.1875 -13.1875 \nQ 15.875 -1.703125 12.234375 9.375 \nQ 8.59375 20.453125 8.59375 31.390625 \nQ 8.59375 42.28125 12.203125 53.3125 \nQ 15.828125 64.359375 23.1875 75.875 \nz\n\" id=\"DejaVuSans-40\"/>\n       <path d=\"M 19.671875 34.8125 \nL 19.671875 8.109375 \nL 35.5 8.109375 \nQ 43.453125 8.109375 47.28125 11.40625 \nQ 51.125 14.703125 51.125 21.484375 \nQ 51.125 28.328125 47.28125 31.5625 \nQ 43.453125 34.8125 35.5 34.8125 \nz\nM 19.671875 64.796875 \nL 19.671875 42.828125 \nL 34.28125 42.828125 \nQ 41.5 42.828125 45.03125 45.53125 \nQ 48.578125 48.25 48.578125 53.8125 \nQ 48.578125 59.328125 45.03125 62.0625 \nQ 41.5 64.796875 34.28125 64.796875 \nz\nM 9.8125 72.90625 \nL 35.015625 72.90625 \nQ 46.296875 72.90625 52.390625 68.21875 \nQ 58.5 63.53125 58.5 54.890625 \nQ 58.5 48.1875 55.375 44.234375 \nQ 52.25 40.28125 46.1875 39.3125 \nQ 53.46875 37.75 57.5 32.78125 \nQ 61.53125 27.828125 61.53125 20.40625 \nQ 61.53125 10.640625 54.890625 5.3125 \nQ 48.25 0 35.984375 0 \nL 9.8125 0 \nz\n\" id=\"DejaVuSans-66\"/>\n       <path d=\"M 8.015625 75.875 \nL 15.828125 75.875 \nQ 23.140625 64.359375 26.78125 53.3125 \nQ 30.421875 42.28125 30.421875 31.390625 \nQ 30.421875 20.453125 26.78125 9.375 \nQ 23.140625 -1.703125 15.828125 -13.1875 \nL 8.015625 -13.1875 \nQ 14.5 -2 17.703125 9.0625 \nQ 20.90625 20.125 20.90625 31.390625 \nQ 20.90625 42.671875 17.703125 53.65625 \nQ 14.5 64.65625 8.015625 75.875 \nz\n\" id=\"DejaVuSans-41\"/>\n      </defs>\n      <use xlink:href=\"#DejaVuSans-77\"/>\n      <use x=\"86.279297\" xlink:href=\"#DejaVuSans-97\"/>\n      <use x=\"147.558594\" xlink:href=\"#DejaVuSans-103\"/>\n      <use x=\"211.035156\" xlink:href=\"#DejaVuSans-110\"/>\n      <use x=\"274.414062\" xlink:href=\"#DejaVuSans-105\"/>\n      <use x=\"302.197266\" xlink:href=\"#DejaVuSans-116\"/>\n      <use x=\"341.40625\" xlink:href=\"#DejaVuSans-117\"/>\n      <use x=\"404.785156\" xlink:href=\"#DejaVuSans-100\"/>\n      <use x=\"468.261719\" xlink:href=\"#DejaVuSans-101\"/>\n      <use x=\"529.785156\" xlink:href=\"#DejaVuSans-32\"/>\n      <use x=\"561.572266\" xlink:href=\"#DejaVuSans-40\"/>\n      <use x=\"600.585938\" xlink:href=\"#DejaVuSans-100\"/>\n      <use x=\"664.0625\" xlink:href=\"#DejaVuSans-66\"/>\n      <use x=\"732.666016\" xlink:href=\"#DejaVuSans-41\"/>\n     </g>\n    </g>\n   </g>\n   <g id=\"line2d_67\">\n    <path clip-path=\"url(#pdecf18f996)\" d=\"M 64.200994 11.692562 \nL 70.412497 12.580042 \nL 76.624 13.604939 \nL 82.835503 14.765446 \nL 89.047005 16.054699 \nL 95.258508 17.461763 \nL 101.470011 18.973055 \nL 107.681514 20.573837 \nL 113.893017 22.249497 \nL 120.104519 23.986469 \nL 126.316022 25.772758 \nL 132.527525 27.598153 \nL 138.739028 29.454204 \nL 144.95053 31.334073 \nL 151.162033 33.232321 \nL 157.373536 35.144672 \nL 163.585039 37.067802 \nL 169.796542 38.999144 \nL 176.008044 40.936726 \nL 182.219547 42.879044 \nL 188.43105 44.824949 \nL 194.642553 46.773568 \nL 200.854056 48.724239 \nL 207.065558 50.676462 \nL 213.277061 52.629856 \nL 219.488564 54.584136 \nL 225.700067 56.539083 \nL 231.911569 58.494534 \nL 238.123072 60.450366 \nL 244.334575 62.406485 \nL 250.546078 64.36282 \nL 256.757581 66.319319 \nL 262.969083 68.275941 \nL 269.180586 70.232657 \nL 275.392089 72.189442 \nL 281.603592 74.14628 \nL 287.815095 76.103158 \nL 294.026597 78.060067 \nL 300.2381 80.016998 \nL 306.449603 81.973946 \nL 312.661106 83.930907 \nL 318.872608 85.887878 \nL 325.084111 87.844856 \nL 331.295614 89.80184 \nL 337.507117 91.758828 \nL 343.71862 93.715819 \nL 349.930122 95.672812 \nL 356.141625 97.629807 \nL 362.353128 99.586804 \nL 368.564631 101.543802 \n\" style=\"fill:none;stroke:#1f77b4;stroke-linecap:square;stroke-width:1.5;\"/>\n   </g>\n   <g id=\"patch_3\">\n    <path d=\"M 48.982813 106.036364 \nL 48.982813 7.2 \n\" style=\"fill:none;stroke:#000000;stroke-linecap:square;stroke-linejoin:miter;stroke-width:0.8;\"/>\n   </g>\n   <g id=\"patch_4\">\n    <path d=\"M 383.782813 106.036364 \nL 383.782813 7.2 \n\" style=\"fill:none;stroke:#000000;stroke-linecap:square;stroke-linejoin:miter;stroke-width:0.8;\"/>\n   </g>\n   <g id=\"patch_5\">\n    <path d=\"M 48.982812 106.036364 \nL 383.782813 106.036364 \n\" style=\"fill:none;stroke:#000000;stroke-linecap:square;stroke-linejoin:miter;stroke-width:0.8;\"/>\n   </g>\n   <g id=\"patch_6\">\n    <path d=\"M 48.982812 7.2 \nL 383.782813 7.2 \n\" style=\"fill:none;stroke:#000000;stroke-linecap:square;stroke-linejoin:miter;stroke-width:0.8;\"/>\n   </g>\n  </g>\n  <g id=\"axes_2\">\n   <g id=\"patch_7\">\n    <path d=\"M 48.982813 224.64 \nL 383.782813 224.64 \nL 383.782813 125.803636 \nL 48.982813 125.803636 \nz\n\" style=\"fill:#ffffff;\"/>\n   </g>\n   <g id=\"matplotlib.axis_3\">\n    <g id=\"xtick_31\">\n     <g id=\"line2d_68\">\n      <path clip-path=\"url(#p775661a822)\" d=\"M 64.200994 224.64 \nL 64.200994 125.803636 \n\" style=\"fill:none;stroke:#b0b0b0;stroke-linecap:square;stroke-width:0.8;\"/>\n     </g>\n     <g id=\"line2d_69\">\n      <g>\n       <use style=\"stroke:#000000;stroke-width:0.8;\" x=\"64.200994\" xlink:href=\"#m4968cde9c8\" y=\"224.64\"/>\n      </g>\n     </g>\n     <g id=\"text_9\">\n      <!-- $\\mathdefault{10^{-2}}$ -->\n      <g transform=\"translate(52.450994 239.238437)scale(0.1 -0.1)\">\n       <use transform=\"translate(0 0.765625)\" xlink:href=\"#DejaVuSans-49\"/>\n       <use transform=\"translate(63.623047 0.765625)\" xlink:href=\"#DejaVuSans-48\"/>\n       <use transform=\"translate(128.203125 39.046875)scale(0.7)\" xlink:href=\"#DejaVuSans-8722\"/>\n       <use transform=\"translate(186.855469 39.046875)scale(0.7)\" xlink:href=\"#DejaVuSans-50\"/>\n      </g>\n     </g>\n    </g>\n    <g id=\"xtick_32\">\n     <g id=\"line2d_70\">\n      <path clip-path=\"url(#p775661a822)\" d=\"M 165.65554 224.64 \nL 165.65554 125.803636 \n\" style=\"fill:none;stroke:#b0b0b0;stroke-linecap:square;stroke-width:0.8;\"/>\n     </g>\n     <g id=\"line2d_71\">\n      <g>\n       <use style=\"stroke:#000000;stroke-width:0.8;\" x=\"165.65554\" xlink:href=\"#m4968cde9c8\" y=\"224.64\"/>\n      </g>\n     </g>\n     <g id=\"text_10\">\n      <!-- $\\mathdefault{10^{-1}}$ -->\n      <g transform=\"translate(153.90554 239.238437)scale(0.1 -0.1)\">\n       <use transform=\"translate(0 0.684375)\" xlink:href=\"#DejaVuSans-49\"/>\n       <use transform=\"translate(63.623047 0.684375)\" xlink:href=\"#DejaVuSans-48\"/>\n       <use transform=\"translate(128.203125 38.965625)scale(0.7)\" xlink:href=\"#DejaVuSans-8722\"/>\n       <use transform=\"translate(186.855469 38.965625)scale(0.7)\" xlink:href=\"#DejaVuSans-49\"/>\n      </g>\n     </g>\n    </g>\n    <g id=\"xtick_33\">\n     <g id=\"line2d_72\">\n      <path clip-path=\"url(#p775661a822)\" d=\"M 267.110085 224.64 \nL 267.110085 125.803636 \n\" style=\"fill:none;stroke:#b0b0b0;stroke-linecap:square;stroke-width:0.8;\"/>\n     </g>\n     <g id=\"line2d_73\">\n      <g>\n       <use style=\"stroke:#000000;stroke-width:0.8;\" x=\"267.110085\" xlink:href=\"#m4968cde9c8\" y=\"224.64\"/>\n      </g>\n     </g>\n     <g id=\"text_11\">\n      <!-- $\\mathdefault{10^{0}}$ -->\n      <g transform=\"translate(258.310085 239.238437)scale(0.1 -0.1)\">\n       <use transform=\"translate(0 0.765625)\" xlink:href=\"#DejaVuSans-49\"/>\n       <use transform=\"translate(63.623047 0.765625)\" xlink:href=\"#DejaVuSans-48\"/>\n       <use transform=\"translate(128.203125 39.046875)scale(0.7)\" xlink:href=\"#DejaVuSans-48\"/>\n      </g>\n     </g>\n    </g>\n    <g id=\"xtick_34\">\n     <g id=\"line2d_74\">\n      <path clip-path=\"url(#p775661a822)\" d=\"M 368.564631 224.64 \nL 368.564631 125.803636 \n\" style=\"fill:none;stroke:#b0b0b0;stroke-linecap:square;stroke-width:0.8;\"/>\n     </g>\n     <g id=\"line2d_75\">\n      <g>\n       <use style=\"stroke:#000000;stroke-width:0.8;\" x=\"368.564631\" xlink:href=\"#m4968cde9c8\" y=\"224.64\"/>\n      </g>\n     </g>\n     <g id=\"text_12\">\n      <!-- $\\mathdefault{10^{1}}$ -->\n      <g transform=\"translate(359.764631 239.238437)scale(0.1 -0.1)\">\n       <use transform=\"translate(0 0.684375)\" xlink:href=\"#DejaVuSans-49\"/>\n       <use transform=\"translate(63.623047 0.684375)\" xlink:href=\"#DejaVuSans-48\"/>\n       <use transform=\"translate(128.203125 38.965625)scale(0.7)\" xlink:href=\"#DejaVuSans-49\"/>\n      </g>\n     </g>\n    </g>\n    <g id=\"xtick_35\">\n     <g id=\"line2d_76\">\n      <path clip-path=\"url(#p775661a822)\" d=\"M 54.369033 224.64 \nL 54.369033 125.803636 \n\" style=\"fill:none;stroke:#b0b0b0;stroke-linecap:square;stroke-width:0.8;\"/>\n     </g>\n     <g id=\"line2d_77\">\n      <g>\n       <use style=\"stroke:#000000;stroke-width:0.6;\" x=\"54.369033\" xlink:href=\"#ma28d77f46b\" y=\"224.64\"/>\n      </g>\n     </g>\n    </g>\n    <g id=\"xtick_36\">\n     <g id=\"line2d_78\">\n      <path clip-path=\"url(#p775661a822)\" d=\"M 59.558689 224.64 \nL 59.558689 125.803636 \n\" style=\"fill:none;stroke:#b0b0b0;stroke-linecap:square;stroke-width:0.8;\"/>\n     </g>\n     <g id=\"line2d_79\">\n      <g>\n       <use style=\"stroke:#000000;stroke-width:0.6;\" x=\"59.558689\" xlink:href=\"#ma28d77f46b\" y=\"224.64\"/>\n      </g>\n     </g>\n    </g>\n    <g id=\"xtick_37\">\n     <g id=\"line2d_80\">\n      <path clip-path=\"url(#p775661a822)\" d=\"M 94.741856 224.64 \nL 94.741856 125.803636 \n\" style=\"fill:none;stroke:#b0b0b0;stroke-linecap:square;stroke-width:0.8;\"/>\n     </g>\n     <g id=\"line2d_81\">\n      <g>\n       <use style=\"stroke:#000000;stroke-width:0.6;\" x=\"94.741856\" xlink:href=\"#ma28d77f46b\" y=\"224.64\"/>\n      </g>\n     </g>\n    </g>\n    <g id=\"xtick_38\">\n     <g id=\"line2d_82\">\n      <path clip-path=\"url(#p775661a822)\" d=\"M 112.607114 224.64 \nL 112.607114 125.803636 \n\" style=\"fill:none;stroke:#b0b0b0;stroke-linecap:square;stroke-width:0.8;\"/>\n     </g>\n     <g id=\"line2d_83\">\n      <g>\n       <use style=\"stroke:#000000;stroke-width:0.6;\" x=\"112.607114\" xlink:href=\"#ma28d77f46b\" y=\"224.64\"/>\n      </g>\n     </g>\n    </g>\n    <g id=\"xtick_39\">\n     <g id=\"line2d_84\">\n      <path clip-path=\"url(#p775661a822)\" d=\"M 125.282717 224.64 \nL 125.282717 125.803636 \n\" style=\"fill:none;stroke:#b0b0b0;stroke-linecap:square;stroke-width:0.8;\"/>\n     </g>\n     <g id=\"line2d_85\">\n      <g>\n       <use style=\"stroke:#000000;stroke-width:0.6;\" x=\"125.282717\" xlink:href=\"#ma28d77f46b\" y=\"224.64\"/>\n      </g>\n     </g>\n    </g>\n    <g id=\"xtick_40\">\n     <g id=\"line2d_86\">\n      <path clip-path=\"url(#p775661a822)\" d=\"M 135.114678 224.64 \nL 135.114678 125.803636 \n\" style=\"fill:none;stroke:#b0b0b0;stroke-linecap:square;stroke-width:0.8;\"/>\n     </g>\n     <g id=\"line2d_87\">\n      <g>\n       <use style=\"stroke:#000000;stroke-width:0.6;\" x=\"135.114678\" xlink:href=\"#ma28d77f46b\" y=\"224.64\"/>\n      </g>\n     </g>\n    </g>\n    <g id=\"xtick_41\">\n     <g id=\"line2d_88\">\n      <path clip-path=\"url(#p775661a822)\" d=\"M 143.147976 224.64 \nL 143.147976 125.803636 \n\" style=\"fill:none;stroke:#b0b0b0;stroke-linecap:square;stroke-width:0.8;\"/>\n     </g>\n     <g id=\"line2d_89\">\n      <g>\n       <use style=\"stroke:#000000;stroke-width:0.6;\" x=\"143.147976\" xlink:href=\"#ma28d77f46b\" y=\"224.64\"/>\n      </g>\n     </g>\n    </g>\n    <g id=\"xtick_42\">\n     <g id=\"line2d_90\">\n      <path clip-path=\"url(#p775661a822)\" d=\"M 149.940032 224.64 \nL 149.940032 125.803636 \n\" style=\"fill:none;stroke:#b0b0b0;stroke-linecap:square;stroke-width:0.8;\"/>\n     </g>\n     <g id=\"line2d_91\">\n      <g>\n       <use style=\"stroke:#000000;stroke-width:0.6;\" x=\"149.940032\" xlink:href=\"#ma28d77f46b\" y=\"224.64\"/>\n      </g>\n     </g>\n    </g>\n    <g id=\"xtick_43\">\n     <g id=\"line2d_92\">\n      <path clip-path=\"url(#p775661a822)\" d=\"M 155.823578 224.64 \nL 155.823578 125.803636 \n\" style=\"fill:none;stroke:#b0b0b0;stroke-linecap:square;stroke-width:0.8;\"/>\n     </g>\n     <g id=\"line2d_93\">\n      <g>\n       <use style=\"stroke:#000000;stroke-width:0.6;\" x=\"155.823578\" xlink:href=\"#ma28d77f46b\" y=\"224.64\"/>\n      </g>\n     </g>\n    </g>\n    <g id=\"xtick_44\">\n     <g id=\"line2d_94\">\n      <path clip-path=\"url(#p775661a822)\" d=\"M 161.013234 224.64 \nL 161.013234 125.803636 \n\" style=\"fill:none;stroke:#b0b0b0;stroke-linecap:square;stroke-width:0.8;\"/>\n     </g>\n     <g id=\"line2d_95\">\n      <g>\n       <use style=\"stroke:#000000;stroke-width:0.6;\" x=\"161.013234\" xlink:href=\"#ma28d77f46b\" y=\"224.64\"/>\n      </g>\n     </g>\n    </g>\n    <g id=\"xtick_45\">\n     <g id=\"line2d_96\">\n      <path clip-path=\"url(#p775661a822)\" d=\"M 196.196401 224.64 \nL 196.196401 125.803636 \n\" style=\"fill:none;stroke:#b0b0b0;stroke-linecap:square;stroke-width:0.8;\"/>\n     </g>\n     <g id=\"line2d_97\">\n      <g>\n       <use style=\"stroke:#000000;stroke-width:0.6;\" x=\"196.196401\" xlink:href=\"#ma28d77f46b\" y=\"224.64\"/>\n      </g>\n     </g>\n    </g>\n    <g id=\"xtick_46\">\n     <g id=\"line2d_98\">\n      <path clip-path=\"url(#p775661a822)\" d=\"M 214.06166 224.64 \nL 214.06166 125.803636 \n\" style=\"fill:none;stroke:#b0b0b0;stroke-linecap:square;stroke-width:0.8;\"/>\n     </g>\n     <g id=\"line2d_99\">\n      <g>\n       <use style=\"stroke:#000000;stroke-width:0.6;\" x=\"214.06166\" xlink:href=\"#ma28d77f46b\" y=\"224.64\"/>\n      </g>\n     </g>\n    </g>\n    <g id=\"xtick_47\">\n     <g id=\"line2d_100\">\n      <path clip-path=\"url(#p775661a822)\" d=\"M 226.737263 224.64 \nL 226.737263 125.803636 \n\" style=\"fill:none;stroke:#b0b0b0;stroke-linecap:square;stroke-width:0.8;\"/>\n     </g>\n     <g id=\"line2d_101\">\n      <g>\n       <use style=\"stroke:#000000;stroke-width:0.6;\" x=\"226.737263\" xlink:href=\"#ma28d77f46b\" y=\"224.64\"/>\n      </g>\n     </g>\n    </g>\n    <g id=\"xtick_48\">\n     <g id=\"line2d_102\">\n      <path clip-path=\"url(#p775661a822)\" d=\"M 236.569224 224.64 \nL 236.569224 125.803636 \n\" style=\"fill:none;stroke:#b0b0b0;stroke-linecap:square;stroke-width:0.8;\"/>\n     </g>\n     <g id=\"line2d_103\">\n      <g>\n       <use style=\"stroke:#000000;stroke-width:0.6;\" x=\"236.569224\" xlink:href=\"#ma28d77f46b\" y=\"224.64\"/>\n      </g>\n     </g>\n    </g>\n    <g id=\"xtick_49\">\n     <g id=\"line2d_104\">\n      <path clip-path=\"url(#p775661a822)\" d=\"M 244.602521 224.64 \nL 244.602521 125.803636 \n\" style=\"fill:none;stroke:#b0b0b0;stroke-linecap:square;stroke-width:0.8;\"/>\n     </g>\n     <g id=\"line2d_105\">\n      <g>\n       <use style=\"stroke:#000000;stroke-width:0.6;\" x=\"244.602521\" xlink:href=\"#ma28d77f46b\" y=\"224.64\"/>\n      </g>\n     </g>\n    </g>\n    <g id=\"xtick_50\">\n     <g id=\"line2d_106\">\n      <path clip-path=\"url(#p775661a822)\" d=\"M 251.394577 224.64 \nL 251.394577 125.803636 \n\" style=\"fill:none;stroke:#b0b0b0;stroke-linecap:square;stroke-width:0.8;\"/>\n     </g>\n     <g id=\"line2d_107\">\n      <g>\n       <use style=\"stroke:#000000;stroke-width:0.6;\" x=\"251.394577\" xlink:href=\"#ma28d77f46b\" y=\"224.64\"/>\n      </g>\n     </g>\n    </g>\n    <g id=\"xtick_51\">\n     <g id=\"line2d_108\">\n      <path clip-path=\"url(#p775661a822)\" d=\"M 257.278124 224.64 \nL 257.278124 125.803636 \n\" style=\"fill:none;stroke:#b0b0b0;stroke-linecap:square;stroke-width:0.8;\"/>\n     </g>\n     <g id=\"line2d_109\">\n      <g>\n       <use style=\"stroke:#000000;stroke-width:0.6;\" x=\"257.278124\" xlink:href=\"#ma28d77f46b\" y=\"224.64\"/>\n      </g>\n     </g>\n    </g>\n    <g id=\"xtick_52\">\n     <g id=\"line2d_110\">\n      <path clip-path=\"url(#p775661a822)\" d=\"M 262.46778 224.64 \nL 262.46778 125.803636 \n\" style=\"fill:none;stroke:#b0b0b0;stroke-linecap:square;stroke-width:0.8;\"/>\n     </g>\n     <g id=\"line2d_111\">\n      <g>\n       <use style=\"stroke:#000000;stroke-width:0.6;\" x=\"262.46778\" xlink:href=\"#ma28d77f46b\" y=\"224.64\"/>\n      </g>\n     </g>\n    </g>\n    <g id=\"xtick_53\">\n     <g id=\"line2d_112\">\n      <path clip-path=\"url(#p775661a822)\" d=\"M 297.650947 224.64 \nL 297.650947 125.803636 \n\" style=\"fill:none;stroke:#b0b0b0;stroke-linecap:square;stroke-width:0.8;\"/>\n     </g>\n     <g id=\"line2d_113\">\n      <g>\n       <use style=\"stroke:#000000;stroke-width:0.6;\" x=\"297.650947\" xlink:href=\"#ma28d77f46b\" y=\"224.64\"/>\n      </g>\n     </g>\n    </g>\n    <g id=\"xtick_54\">\n     <g id=\"line2d_114\">\n      <path clip-path=\"url(#p775661a822)\" d=\"M 315.516205 224.64 \nL 315.516205 125.803636 \n\" style=\"fill:none;stroke:#b0b0b0;stroke-linecap:square;stroke-width:0.8;\"/>\n     </g>\n     <g id=\"line2d_115\">\n      <g>\n       <use style=\"stroke:#000000;stroke-width:0.6;\" x=\"315.516205\" xlink:href=\"#ma28d77f46b\" y=\"224.64\"/>\n      </g>\n     </g>\n    </g>\n    <g id=\"xtick_55\">\n     <g id=\"line2d_116\">\n      <path clip-path=\"url(#p775661a822)\" d=\"M 328.191808 224.64 \nL 328.191808 125.803636 \n\" style=\"fill:none;stroke:#b0b0b0;stroke-linecap:square;stroke-width:0.8;\"/>\n     </g>\n     <g id=\"line2d_117\">\n      <g>\n       <use style=\"stroke:#000000;stroke-width:0.6;\" x=\"328.191808\" xlink:href=\"#ma28d77f46b\" y=\"224.64\"/>\n      </g>\n     </g>\n    </g>\n    <g id=\"xtick_56\">\n     <g id=\"line2d_118\">\n      <path clip-path=\"url(#p775661a822)\" d=\"M 338.023769 224.64 \nL 338.023769 125.803636 \n\" style=\"fill:none;stroke:#b0b0b0;stroke-linecap:square;stroke-width:0.8;\"/>\n     </g>\n     <g id=\"line2d_119\">\n      <g>\n       <use style=\"stroke:#000000;stroke-width:0.6;\" x=\"338.023769\" xlink:href=\"#ma28d77f46b\" y=\"224.64\"/>\n      </g>\n     </g>\n    </g>\n    <g id=\"xtick_57\">\n     <g id=\"line2d_120\">\n      <path clip-path=\"url(#p775661a822)\" d=\"M 346.057067 224.64 \nL 346.057067 125.803636 \n\" style=\"fill:none;stroke:#b0b0b0;stroke-linecap:square;stroke-width:0.8;\"/>\n     </g>\n     <g id=\"line2d_121\">\n      <g>\n       <use style=\"stroke:#000000;stroke-width:0.6;\" x=\"346.057067\" xlink:href=\"#ma28d77f46b\" y=\"224.64\"/>\n      </g>\n     </g>\n    </g>\n    <g id=\"xtick_58\">\n     <g id=\"line2d_122\">\n      <path clip-path=\"url(#p775661a822)\" d=\"M 352.849123 224.64 \nL 352.849123 125.803636 \n\" style=\"fill:none;stroke:#b0b0b0;stroke-linecap:square;stroke-width:0.8;\"/>\n     </g>\n     <g id=\"line2d_123\">\n      <g>\n       <use style=\"stroke:#000000;stroke-width:0.6;\" x=\"352.849123\" xlink:href=\"#ma28d77f46b\" y=\"224.64\"/>\n      </g>\n     </g>\n    </g>\n    <g id=\"xtick_59\">\n     <g id=\"line2d_124\">\n      <path clip-path=\"url(#p775661a822)\" d=\"M 358.732669 224.64 \nL 358.732669 125.803636 \n\" style=\"fill:none;stroke:#b0b0b0;stroke-linecap:square;stroke-width:0.8;\"/>\n     </g>\n     <g id=\"line2d_125\">\n      <g>\n       <use style=\"stroke:#000000;stroke-width:0.6;\" x=\"358.732669\" xlink:href=\"#ma28d77f46b\" y=\"224.64\"/>\n      </g>\n     </g>\n    </g>\n    <g id=\"xtick_60\">\n     <g id=\"line2d_126\">\n      <path clip-path=\"url(#p775661a822)\" d=\"M 363.922325 224.64 \nL 363.922325 125.803636 \n\" style=\"fill:none;stroke:#b0b0b0;stroke-linecap:square;stroke-width:0.8;\"/>\n     </g>\n     <g id=\"line2d_127\">\n      <g>\n       <use style=\"stroke:#000000;stroke-width:0.6;\" x=\"363.922325\" xlink:href=\"#ma28d77f46b\" y=\"224.64\"/>\n      </g>\n     </g>\n    </g>\n    <g id=\"text_13\">\n     <!-- Frequency (rad/sec) -->\n     <g transform=\"translate(166.653906 252.916562)scale(0.1 -0.1)\">\n      <defs>\n       <path d=\"M 9.8125 72.90625 \nL 51.703125 72.90625 \nL 51.703125 64.59375 \nL 19.671875 64.59375 \nL 19.671875 43.109375 \nL 48.578125 43.109375 \nL 48.578125 34.8125 \nL 19.671875 34.8125 \nL 19.671875 0 \nL 9.8125 0 \nz\n\" id=\"DejaVuSans-70\"/>\n       <path d=\"M 41.109375 46.296875 \nQ 39.59375 47.171875 37.8125 47.578125 \nQ 36.03125 48 33.890625 48 \nQ 26.265625 48 22.1875 43.046875 \nQ 18.109375 38.09375 18.109375 28.8125 \nL 18.109375 0 \nL 9.078125 0 \nL 9.078125 54.6875 \nL 18.109375 54.6875 \nL 18.109375 46.1875 \nQ 20.953125 51.171875 25.484375 53.578125 \nQ 30.03125 56 36.53125 56 \nQ 37.453125 56 38.578125 55.875 \nQ 39.703125 55.765625 41.0625 55.515625 \nz\n\" id=\"DejaVuSans-114\"/>\n       <path d=\"M 14.796875 27.296875 \nQ 14.796875 17.390625 18.875 11.75 \nQ 22.953125 6.109375 30.078125 6.109375 \nQ 37.203125 6.109375 41.296875 11.75 \nQ 45.40625 17.390625 45.40625 27.296875 \nQ 45.40625 37.203125 41.296875 42.84375 \nQ 37.203125 48.484375 30.078125 48.484375 \nQ 22.953125 48.484375 18.875 42.84375 \nQ 14.796875 37.203125 14.796875 27.296875 \nz\nM 45.40625 8.203125 \nQ 42.578125 3.328125 38.25 0.953125 \nQ 33.9375 -1.421875 27.875 -1.421875 \nQ 17.96875 -1.421875 11.734375 6.484375 \nQ 5.515625 14.40625 5.515625 27.296875 \nQ 5.515625 40.1875 11.734375 48.09375 \nQ 17.96875 56 27.875 56 \nQ 33.9375 56 38.25 53.625 \nQ 42.578125 51.265625 45.40625 46.390625 \nL 45.40625 54.6875 \nL 54.390625 54.6875 \nL 54.390625 -20.796875 \nL 45.40625 -20.796875 \nz\n\" id=\"DejaVuSans-113\"/>\n       <path d=\"M 48.78125 52.59375 \nL 48.78125 44.1875 \nQ 44.96875 46.296875 41.140625 47.34375 \nQ 37.3125 48.390625 33.40625 48.390625 \nQ 24.65625 48.390625 19.8125 42.84375 \nQ 14.984375 37.3125 14.984375 27.296875 \nQ 14.984375 17.28125 19.8125 11.734375 \nQ 24.65625 6.203125 33.40625 6.203125 \nQ 37.3125 6.203125 41.140625 7.25 \nQ 44.96875 8.296875 48.78125 10.40625 \nL 48.78125 2.09375 \nQ 45.015625 0.34375 40.984375 -0.53125 \nQ 36.96875 -1.421875 32.421875 -1.421875 \nQ 20.0625 -1.421875 12.78125 6.34375 \nQ 5.515625 14.109375 5.515625 27.296875 \nQ 5.515625 40.671875 12.859375 48.328125 \nQ 20.21875 56 33.015625 56 \nQ 37.15625 56 41.109375 55.140625 \nQ 45.0625 54.296875 48.78125 52.59375 \nz\n\" id=\"DejaVuSans-99\"/>\n       <path d=\"M 32.171875 -5.078125 \nQ 28.375 -14.84375 24.75 -17.8125 \nQ 21.140625 -20.796875 15.09375 -20.796875 \nL 7.90625 -20.796875 \nL 7.90625 -13.28125 \nL 13.1875 -13.28125 \nQ 16.890625 -13.28125 18.9375 -11.515625 \nQ 21 -9.765625 23.484375 -3.21875 \nL 25.09375 0.875 \nL 2.984375 54.6875 \nL 12.5 54.6875 \nL 29.59375 11.921875 \nL 46.6875 54.6875 \nL 56.203125 54.6875 \nz\n\" id=\"DejaVuSans-121\"/>\n       <path d=\"M 25.390625 72.90625 \nL 33.6875 72.90625 \nL 8.296875 -9.28125 \nL 0 -9.28125 \nz\n\" id=\"DejaVuSans-47\"/>\n       <path d=\"M 44.28125 53.078125 \nL 44.28125 44.578125 \nQ 40.484375 46.53125 36.375 47.5 \nQ 32.28125 48.484375 27.875 48.484375 \nQ 21.1875 48.484375 17.84375 46.4375 \nQ 14.5 44.390625 14.5 40.28125 \nQ 14.5 37.15625 16.890625 35.375 \nQ 19.28125 33.59375 26.515625 31.984375 \nL 29.59375 31.296875 \nQ 39.15625 29.25 43.1875 25.515625 \nQ 47.21875 21.78125 47.21875 15.09375 \nQ 47.21875 7.46875 41.1875 3.015625 \nQ 35.15625 -1.421875 24.609375 -1.421875 \nQ 20.21875 -1.421875 15.453125 -0.5625 \nQ 10.6875 0.296875 5.421875 2 \nL 5.421875 11.28125 \nQ 10.40625 8.6875 15.234375 7.390625 \nQ 20.0625 6.109375 24.8125 6.109375 \nQ 31.15625 6.109375 34.5625 8.28125 \nQ 37.984375 10.453125 37.984375 14.40625 \nQ 37.984375 18.0625 35.515625 20.015625 \nQ 33.0625 21.96875 24.703125 23.78125 \nL 21.578125 24.515625 \nQ 13.234375 26.265625 9.515625 29.90625 \nQ 5.8125 33.546875 5.8125 39.890625 \nQ 5.8125 47.609375 11.28125 51.796875 \nQ 16.75 56 26.8125 56 \nQ 31.78125 56 36.171875 55.265625 \nQ 40.578125 54.546875 44.28125 53.078125 \nz\n\" id=\"DejaVuSans-115\"/>\n      </defs>\n      <use xlink:href=\"#DejaVuSans-70\"/>\n      <use x=\"50.269531\" xlink:href=\"#DejaVuSans-114\"/>\n      <use x=\"89.132812\" xlink:href=\"#DejaVuSans-101\"/>\n      <use x=\"150.65625\" xlink:href=\"#DejaVuSans-113\"/>\n      <use x=\"214.132812\" xlink:href=\"#DejaVuSans-117\"/>\n      <use x=\"277.511719\" xlink:href=\"#DejaVuSans-101\"/>\n      <use x=\"339.035156\" xlink:href=\"#DejaVuSans-110\"/>\n      <use x=\"402.414062\" xlink:href=\"#DejaVuSans-99\"/>\n      <use x=\"457.394531\" xlink:href=\"#DejaVuSans-121\"/>\n      <use x=\"516.574219\" xlink:href=\"#DejaVuSans-32\"/>\n      <use x=\"548.361328\" xlink:href=\"#DejaVuSans-40\"/>\n      <use x=\"587.375\" xlink:href=\"#DejaVuSans-114\"/>\n      <use x=\"628.488281\" xlink:href=\"#DejaVuSans-97\"/>\n      <use x=\"689.767578\" xlink:href=\"#DejaVuSans-100\"/>\n      <use x=\"753.244141\" xlink:href=\"#DejaVuSans-47\"/>\n      <use x=\"786.935547\" xlink:href=\"#DejaVuSans-115\"/>\n      <use x=\"839.035156\" xlink:href=\"#DejaVuSans-101\"/>\n      <use x=\"900.558594\" xlink:href=\"#DejaVuSans-99\"/>\n      <use x=\"955.539062\" xlink:href=\"#DejaVuSans-41\"/>\n     </g>\n    </g>\n   </g>\n   <g id=\"matplotlib.axis_4\">\n    <g id=\"ytick_4\">\n     <g id=\"line2d_128\">\n      <path clip-path=\"url(#p775661a822)\" d=\"M 48.982813 220.2697 \nL 383.782813 220.2697 \n\" style=\"fill:none;stroke:#b0b0b0;stroke-linecap:square;stroke-width:0.8;\"/>\n     </g>\n     <g id=\"line2d_129\">\n      <g>\n       <use style=\"stroke:#000000;stroke-width:0.8;\" x=\"48.982813\" xlink:href=\"#m1a702a0627\" y=\"220.2697\"/>\n      </g>\n     </g>\n     <g id=\"text_14\">\n      <!-- −90 -->\n      <g transform=\"translate(20.878125 224.068918)scale(0.1 -0.1)\">\n       <defs>\n        <path d=\"M 10.984375 1.515625 \nL 10.984375 10.5 \nQ 14.703125 8.734375 18.5 7.8125 \nQ 22.3125 6.890625 25.984375 6.890625 \nQ 35.75 6.890625 40.890625 13.453125 \nQ 46.046875 20.015625 46.78125 33.40625 \nQ 43.953125 29.203125 39.59375 26.953125 \nQ 35.25 24.703125 29.984375 24.703125 \nQ 19.046875 24.703125 12.671875 31.3125 \nQ 6.296875 37.9375 6.296875 49.421875 \nQ 6.296875 60.640625 12.9375 67.421875 \nQ 19.578125 74.21875 30.609375 74.21875 \nQ 43.265625 74.21875 49.921875 64.515625 \nQ 56.59375 54.828125 56.59375 36.375 \nQ 56.59375 19.140625 48.40625 8.859375 \nQ 40.234375 -1.421875 26.421875 -1.421875 \nQ 22.703125 -1.421875 18.890625 -0.6875 \nQ 15.09375 0.046875 10.984375 1.515625 \nz\nM 30.609375 32.421875 \nQ 37.25 32.421875 41.125 36.953125 \nQ 45.015625 41.5 45.015625 49.421875 \nQ 45.015625 57.28125 41.125 61.84375 \nQ 37.25 66.40625 30.609375 66.40625 \nQ 23.96875 66.40625 20.09375 61.84375 \nQ 16.21875 57.28125 16.21875 49.421875 \nQ 16.21875 41.5 20.09375 36.953125 \nQ 23.96875 32.421875 30.609375 32.421875 \nz\n\" id=\"DejaVuSans-57\"/>\n       </defs>\n       <use xlink:href=\"#DejaVuSans-8722\"/>\n       <use x=\"83.789062\" xlink:href=\"#DejaVuSans-57\"/>\n       <use x=\"147.412109\" xlink:href=\"#DejaVuSans-48\"/>\n      </g>\n     </g>\n    </g>\n    <g id=\"ytick_5\">\n     <g id=\"line2d_130\">\n      <path clip-path=\"url(#p775661a822)\" d=\"M 48.982813 138.764421 \nL 383.782813 138.764421 \n\" style=\"fill:none;stroke:#b0b0b0;stroke-linecap:square;stroke-width:0.8;\"/>\n     </g>\n     <g id=\"line2d_131\">\n      <g>\n       <use style=\"stroke:#000000;stroke-width:0.8;\" x=\"48.982813\" xlink:href=\"#m1a702a0627\" y=\"138.764421\"/>\n      </g>\n     </g>\n     <g id=\"text_15\">\n      <!-- −45 -->\n      <g transform=\"translate(20.878125 142.56364)scale(0.1 -0.1)\">\n       <defs>\n        <path d=\"M 10.796875 72.90625 \nL 49.515625 72.90625 \nL 49.515625 64.59375 \nL 19.828125 64.59375 \nL 19.828125 46.734375 \nQ 21.96875 47.46875 24.109375 47.828125 \nQ 26.265625 48.1875 28.421875 48.1875 \nQ 40.625 48.1875 47.75 41.5 \nQ 54.890625 34.8125 54.890625 23.390625 \nQ 54.890625 11.625 47.5625 5.09375 \nQ 40.234375 -1.421875 26.90625 -1.421875 \nQ 22.3125 -1.421875 17.546875 -0.640625 \nQ 12.796875 0.140625 7.71875 1.703125 \nL 7.71875 11.625 \nQ 12.109375 9.234375 16.796875 8.0625 \nQ 21.484375 6.890625 26.703125 6.890625 \nQ 35.15625 6.890625 40.078125 11.328125 \nQ 45.015625 15.765625 45.015625 23.390625 \nQ 45.015625 31 40.078125 35.4375 \nQ 35.15625 39.890625 26.703125 39.890625 \nQ 22.75 39.890625 18.8125 39.015625 \nQ 14.890625 38.140625 10.796875 36.28125 \nz\n\" id=\"DejaVuSans-53\"/>\n       </defs>\n       <use xlink:href=\"#DejaVuSans-8722\"/>\n       <use x=\"83.789062\" xlink:href=\"#DejaVuSans-52\"/>\n       <use x=\"147.412109\" xlink:href=\"#DejaVuSans-53\"/>\n      </g>\n     </g>\n    </g>\n    <g id=\"ytick_6\">\n     <g id=\"line2d_132\">\n      <path clip-path=\"url(#p775661a822)\" d=\"M 48.982813 193.101273 \nL 383.782813 193.101273 \n\" style=\"fill:none;stroke:#b0b0b0;stroke-linecap:square;stroke-width:0.8;\"/>\n     </g>\n     <g id=\"line2d_133\">\n      <defs>\n       <path d=\"M 0 0 \nL -2 0 \n\" id=\"mda2fd72753\" style=\"stroke:#000000;stroke-width:0.6;\"/>\n      </defs>\n      <g>\n       <use style=\"stroke:#000000;stroke-width:0.6;\" x=\"48.982813\" xlink:href=\"#mda2fd72753\" y=\"193.101273\"/>\n      </g>\n     </g>\n    </g>\n    <g id=\"ytick_7\">\n     <g id=\"line2d_134\">\n      <path clip-path=\"url(#p775661a822)\" d=\"M 48.982813 165.932847 \nL 383.782813 165.932847 \n\" style=\"fill:none;stroke:#b0b0b0;stroke-linecap:square;stroke-width:0.8;\"/>\n     </g>\n     <g id=\"line2d_135\">\n      <g>\n       <use style=\"stroke:#000000;stroke-width:0.6;\" x=\"48.982813\" xlink:href=\"#mda2fd72753\" y=\"165.932847\"/>\n      </g>\n     </g>\n    </g>\n    <g id=\"text_16\">\n     <!-- Phase (deg) -->\n     <g transform=\"translate(14.798437 205.066349)rotate(-90)scale(0.1 -0.1)\">\n      <defs>\n       <path d=\"M 19.671875 64.796875 \nL 19.671875 37.40625 \nL 32.078125 37.40625 \nQ 38.96875 37.40625 42.71875 40.96875 \nQ 46.484375 44.53125 46.484375 51.125 \nQ 46.484375 57.671875 42.71875 61.234375 \nQ 38.96875 64.796875 32.078125 64.796875 \nz\nM 9.8125 72.90625 \nL 32.078125 72.90625 \nQ 44.34375 72.90625 50.609375 67.359375 \nQ 56.890625 61.8125 56.890625 51.125 \nQ 56.890625 40.328125 50.609375 34.8125 \nQ 44.34375 29.296875 32.078125 29.296875 \nL 19.671875 29.296875 \nL 19.671875 0 \nL 9.8125 0 \nz\n\" id=\"DejaVuSans-80\"/>\n       <path d=\"M 54.890625 33.015625 \nL 54.890625 0 \nL 45.90625 0 \nL 45.90625 32.71875 \nQ 45.90625 40.484375 42.875 44.328125 \nQ 39.84375 48.1875 33.796875 48.1875 \nQ 26.515625 48.1875 22.3125 43.546875 \nQ 18.109375 38.921875 18.109375 30.90625 \nL 18.109375 0 \nL 9.078125 0 \nL 9.078125 75.984375 \nL 18.109375 75.984375 \nL 18.109375 46.1875 \nQ 21.34375 51.125 25.703125 53.5625 \nQ 30.078125 56 35.796875 56 \nQ 45.21875 56 50.046875 50.171875 \nQ 54.890625 44.34375 54.890625 33.015625 \nz\n\" id=\"DejaVuSans-104\"/>\n      </defs>\n      <use xlink:href=\"#DejaVuSans-80\"/>\n      <use x=\"60.302734\" xlink:href=\"#DejaVuSans-104\"/>\n      <use x=\"123.681641\" xlink:href=\"#DejaVuSans-97\"/>\n      <use x=\"184.960938\" xlink:href=\"#DejaVuSans-115\"/>\n      <use x=\"237.060547\" xlink:href=\"#DejaVuSans-101\"/>\n      <use x=\"298.583984\" xlink:href=\"#DejaVuSans-32\"/>\n      <use x=\"330.371094\" xlink:href=\"#DejaVuSans-40\"/>\n      <use x=\"369.384766\" xlink:href=\"#DejaVuSans-100\"/>\n      <use x=\"432.861328\" xlink:href=\"#DejaVuSans-101\"/>\n      <use x=\"494.384766\" xlink:href=\"#DejaVuSans-103\"/>\n      <use x=\"557.861328\" xlink:href=\"#DejaVuSans-41\"/>\n     </g>\n    </g>\n   </g>\n   <g id=\"line2d_136\">\n    <path clip-path=\"url(#p775661a822)\" d=\"M 64.200994 130.296198 \nL 70.412497 137.573331 \nL 76.624 144.873932 \nL 82.835503 152.055205 \nL 89.047005 158.98566 \nL 95.258508 165.556179 \nL 101.470011 171.686542 \nL 107.681514 177.326958 \nL 113.893017 182.45552 \nL 120.104519 187.07319 \nL 126.316022 191.197902 \nL 132.527525 194.858929 \nL 138.739028 198.09214 \nL 144.95053 200.936372 \nL 151.162033 203.430846 \nL 157.373536 205.613473 \nL 163.585039 207.51983 \nL 169.796542 209.182615 \nL 176.008044 210.631444 \nL 182.219547 211.892855 \nL 188.43105 212.990434 \nL 194.642553 213.945027 \nL 200.854056 214.774979 \nL 207.065558 215.496377 \nL 213.277061 216.123296 \nL 219.488564 216.668031 \nL 225.700067 217.1413 \nL 231.911569 217.552447 \nL 238.123072 217.909602 \nL 244.334575 218.219842 \nL 250.546078 218.489318 \nL 256.757581 218.72338 \nL 262.969083 218.926679 \nL 269.180586 219.103255 \nL 275.392089 219.256619 \nL 281.603592 219.389821 \nL 287.815095 219.50551 \nL 294.026597 219.60599 \nL 300.2381 219.693258 \nL 306.449603 219.769052 \nL 312.661106 219.834881 \nL 318.872608 219.892054 \nL 325.084111 219.94171 \nL 331.295614 219.984836 \nL 337.507117 220.022293 \nL 343.71862 220.054824 \nL 349.930122 220.083077 \nL 356.141625 220.107616 \nL 362.353128 220.128928 \nL 368.564631 220.147438 \n\" style=\"fill:none;stroke:#1f77b4;stroke-linecap:square;stroke-width:1.5;\"/>\n   </g>\n   <g id=\"patch_8\">\n    <path d=\"M 48.982813 224.64 \nL 48.982813 125.803636 \n\" style=\"fill:none;stroke:#000000;stroke-linecap:square;stroke-linejoin:miter;stroke-width:0.8;\"/>\n   </g>\n   <g id=\"patch_9\">\n    <path d=\"M 383.782813 224.64 \nL 383.782813 125.803636 \n\" style=\"fill:none;stroke:#000000;stroke-linecap:square;stroke-linejoin:miter;stroke-width:0.8;\"/>\n   </g>\n   <g id=\"patch_10\">\n    <path d=\"M 48.982812 224.64 \nL 383.782813 224.64 \n\" style=\"fill:none;stroke:#000000;stroke-linecap:square;stroke-linejoin:miter;stroke-width:0.8;\"/>\n   </g>\n   <g id=\"patch_11\">\n    <path d=\"M 48.982812 125.803636 \nL 383.782813 125.803636 \n\" style=\"fill:none;stroke:#000000;stroke-linecap:square;stroke-linejoin:miter;stroke-width:0.8;\"/>\n   </g>\n  </g>\n </g>\n <defs>\n  <clipPath id=\"pdecf18f996\">\n   <rect height=\"98.836364\" width=\"334.8\" x=\"48.982813\" y=\"7.2\"/>\n  </clipPath>\n  <clipPath id=\"p775661a822\">\n   <rect height=\"98.836364\" width=\"334.8\" x=\"48.982813\" y=\"125.803636\"/>\n  </clipPath>\n </defs>\n</svg>\n",
            "image/png": "[encoded data removed]"
          },
          "metadata": {
            "needs_background": "light"
          }
        }
      ],
      "source": [
        "mag, ph, om = ctl.bode_plot(H, dB=True,omega_limits=(0.01,10))"
      ]
    },
    {
      "cell_type": "markdown",
      "metadata": {
        "id": "BpRykQzFq3cB"
      },
      "source": [
        "<a id=\"p2\"></a>\n",
        "#### P2. (10 points)(level 1)\n",
        "Determine the frequency and duty cycle of PWM signal in Figure 2\n",
        "<p align=\"center\">\n",
        "<img src=\"https://drive.google.com/uc?id=16DPmruMrhN3M67PjsWt8FVrkbOWufp5O\" width=550 alt=\"Figure 2\"/>\n",
        "</p>\n",
        "<div align=\"center\"><b>Figure 2 PWM signal</b></div>"
      ]
    },
    {
      "cell_type": "code",
      "metadata": {
        "id": "6NCmScahq3cB"
      },
      "source": [
        "T_on = Y*8e-6\n",
        "T_off = Z*150e-6\n",
        "Period = T_on+T_off\n",
        "Duty_Cycle = 100*(T_on/(Period))\n",
        "Frequency = 1/Period"
      ],
      "execution_count": 16,
      "outputs": []
    },
    {
      "cell_type": "code",
      "execution_count": 17,
      "metadata": {},
      "outputs": [
        {
          "output_type": "stream",
          "name": "stdout",
          "text": [
            "Frequency is 2941.18 Hz\nDuty Cycle is 11.76 %\n"
          ]
        }
      ],
      "source": [
        "print(f\"Frequency is {Frequency:.2f} Hz\")\n",
        "print(f\"Duty Cycle is {Duty_Cycle:.2f} %\")"
      ]
    },
    {
      "cell_type": "markdown",
      "metadata": {
        "id": "89DJmfSlq3cC"
      },
      "source": [
        "<a id=\"p3\"></a>\n",
        "#### P3. (10 points)(level 1)\n",
        "From figure 3, complete the Arduino program below consisting of setup() and loop() such that \n",
        "the LED turns on when SW1 is pressed, and off otherwise.  Also, message “LED ON” and “LED OFF” is \n",
        "sent to serial monitor corresponding to LED states.\n",
        "<p align=\"center\">\n",
        "<img src=\"https://drive.google.com/uc?id=1F9H918bbypbiV42-ur0yVY6JorTOaWjU\" width=350 alt=\"Figure 3\"/>\n",
        "</p>\n",
        "<div align=\"center\"><b>Figure 3 switch and LED </b></div>"
      ]
    },
    {
      "cell_type": "markdown",
      "metadata": {
        "id": "Uby3nS4Lq3cC"
      },
      "source": [
        "<b>Note : </b> Don't execute the cell as C programming is not supported by Colab notebook."
      ]
    },
    {
      "cell_type": "code",
      "metadata": {
        "id": "owIfVLP0q3cC"
      },
      "source": [
        "// replace ___ with C code. \n",
        "setup()\n",
        "{\n",
        "    pinMode(D4, INPUT);  \n",
        "    pinMode(D7, OUTPUT);  \n",
        "    Serial.begin(115200);\n",
        "}"
      ],
      "execution_count": null,
      "outputs": []
    },
    {
      "cell_type": "code",
      "metadata": {
        "id": "3SSISKh0q3cD"
      },
      "source": [
        "// replace ___ with C code\n",
        "loop()\n",
        "{\n",
        "    if (digitalRead(D4))  {\n",
        "        digitalWrite(D7, HIGH);\n",
        "        Serial.println(\"LED ON\");\n",
        "    } else. {\n",
        "        digitalWrite(D7, LOW);\n",
        "        Serial.println(\"LED OFF\");\n",
        "    }\n",
        "}"
      ],
      "execution_count": null,
      "outputs": []
    },
    {
      "cell_type": "markdown",
      "metadata": {
        "id": "cowaZLNfq3cE"
      },
      "source": [
        "<a id=\"p4\"></a>\n",
        "#### P4. (15 points)(level 3)\n",
        "We can simulate some mechanical system with electrical circuit. On the left of Figure 4 is \n",
        "a mass-spring-damper system. \n",
        "\n",
        "<p align=\"center\">\n",
        "<img src=\"https://drive.google.com/uc?id=1j2ixxWKUa1tz4t70AkSuwA3vfciW2v1T\" width=650 \n",
        "alt=\"Figure 4\"/>\n",
        "</p>\n",
        "<div align=\"center\"><b>Figure 4 Simulate a mechanical system with electric circuit</b></div>\n",
        "\n",
        "<ol>\n",
        "<li />Using R, C, and L, determine which component to replace A, B, C on the right such that \n",
        "they have the same transfer function. Also compute values of the three components and gain. \n",
        "(10 point)\n",
        "<li />Simulate an impulse response of the system using ctl.impulse_response(). (5 points)"
      ]
    },
    {
      "cell_type": "code",
      "metadata": {
        "id": "QuHBCDr_q3cE"
      },
      "source": [
        "num = 1\n",
        "den = [5*Z,0.2*Y,X] \n",
        "H = ctl.tf(num,den)"
      ],
      "execution_count": 26,
      "outputs": []
    },
    {
      "cell_type": "code",
      "execution_count": 31,
      "metadata": {},
      "outputs": [
        {
          "output_type": "execute_result",
          "data": {
            "text/plain": [
              "(array([ 0.        ,  0.28166179,  0.56332357,  0.84498536,  1.12664714,\n",
              "         1.40830893,  1.68997071,  1.9716325 ,  2.25329428,  2.53495607,\n",
              "         2.81661785,  3.09827964,  3.37994142,  3.66160321,  3.94326499,\n",
              "         4.22492678,  4.50658856,  4.78825035,  5.06991213,  5.35157392,\n",
              "         5.6332357 ,  5.91489749,  6.19655927,  6.47822106,  6.75988284,\n",
              "         7.04154463,  7.32320641,  7.6048682 ,  7.88652998,  8.16819177,\n",
              "         8.44985355,  8.73151534,  9.01317712,  9.29483891,  9.57650069,\n",
              "         9.85816248, 10.13982426, 10.42148605, 10.70314783, 10.98480962,\n",
              "        11.2664714 , 11.54813319, 11.82979497, 12.11145676, 12.39311854,\n",
              "        12.67478033, 12.95644211, 13.2381039 , 13.51976568, 13.80142747,\n",
              "        14.08308925, 14.36475104, 14.64641282, 14.92807461, 15.20973639,\n",
              "        15.49139818, 15.77305996, 16.05472175, 16.33638353, 16.61804532,\n",
              "        16.8997071 , 17.18136889, 17.46303067, 17.74469246, 18.02635424,\n",
              "        18.30801603, 18.58967781, 18.8713396 , 19.15300139, 19.43466317,\n",
              "        19.71632496, 19.99798674, 20.27964853, 20.56131031, 20.8429721 ,\n",
              "        21.12463388, 21.40629567, 21.68795745, 21.96961924, 22.25128102,\n",
              "        22.53294281, 22.81460459, 23.09626638, 23.37792816, 23.65958995,\n",
              "        23.94125173, 24.22291352, 24.5045753 , 24.78623709, 25.06789887,\n",
              "        25.34956066, 25.63122244, 25.91288423, 26.19454601, 26.4762078 ,\n",
              "        26.75786958, 27.03953137, 27.32119315, 27.60285494, 27.88451672,\n",
              "        28.16617851, 28.44784029, 28.72950208, 29.01116386, 29.29282565,\n",
              "        29.57448743, 29.85614922, 30.137811  , 30.41947279, 30.70113457,\n",
              "        30.98279636, 31.26445814, 31.54611993, 31.82778171, 32.1094435 ,\n",
              "        32.39110528, 32.67276707, 32.95442885, 33.23609064, 33.51775242,\n",
              "        33.79941421, 34.08107599, 34.36273778, 34.64439956, 34.92606135,\n",
              "        35.20772313, 35.48938492, 35.7710467 , 36.05270849, 36.33437027,\n",
              "        36.61603206, 36.89769384, 37.17935563, 37.46101742, 37.7426792 ,\n",
              "        38.02434099, 38.30600277, 38.58766456, 38.86932634, 39.15098813,\n",
              "        39.43264991, 39.7143117 , 39.99597348, 40.27763527, 40.55929705,\n",
              "        40.84095884, 41.12262062, 41.40428241, 41.68594419, 41.96760598,\n",
              "        42.24926776, 42.53092955, 42.81259133, 43.09425312, 43.3759149 ,\n",
              "        43.65757669, 43.93923847, 44.22090026, 44.50256204, 44.78422383,\n",
              "        45.06588561, 45.3475474 , 45.62920918, 45.91087097, 46.19253275,\n",
              "        46.47419454, 46.75585632, 47.03751811, 47.31917989, 47.60084168,\n",
              "        47.88250346, 48.16416525, 48.44582703, 48.72748882, 49.0091506 ,\n",
              "        49.29081239, 49.57247417, 49.85413596, 50.13579774, 50.41745953,\n",
              "        50.69912131, 50.9807831 , 51.26244488, 51.54410667, 51.82576845,\n",
              "        52.10743024, 52.38909202, 52.67075381, 52.95241559, 53.23407738,\n",
              "        53.51573916, 53.79740095, 54.07906273, 54.36072452, 54.6423863 ,\n",
              "        54.92404809, 55.20570987, 55.48737166, 55.76903344, 56.05069523,\n",
              "        56.33235702, 56.6140188 , 56.89568059, 57.17734237, 57.45900416,\n",
              "        57.74066594, 58.02232773, 58.30398951, 58.5856513 , 58.86731308,\n",
              "        59.14897487, 59.43063665, 59.71229844, 59.99396022, 60.27562201,\n",
              "        60.55728379, 60.83894558, 61.12060736, 61.40226915, 61.68393093,\n",
              "        61.96559272, 62.2472545 , 62.52891629, 62.81057807, 63.09223986,\n",
              "        63.37390164, 63.65556343, 63.93722521, 64.218887  , 64.50054878,\n",
              "        64.78221057, 65.06387235, 65.34553414, 65.62719592, 65.90885771,\n",
              "        66.19051949, 66.47218128, 66.75384306, 67.03550485, 67.31716663,\n",
              "        67.59882842, 67.8804902 , 68.16215199, 68.44381377, 68.72547556,\n",
              "        69.00713734, 69.28879913, 69.57046091, 69.8521227 , 70.13378448,\n",
              "        70.41544627, 70.69710805, 70.97876984, 71.26043162, 71.54209341,\n",
              "        71.82375519, 72.10541698, 72.38707876, 72.66874055, 72.95040233,\n",
              "        73.23206412, 73.5137259 , 73.79538769, 74.07704947, 74.35871126,\n",
              "        74.64037305, 74.92203483, 75.20369662, 75.4853584 , 75.76702019,\n",
              "        76.04868197, 76.33034376, 76.61200554, 76.89366733, 77.17532911,\n",
              "        77.4569909 , 77.73865268, 78.02031447, 78.30197625, 78.58363804,\n",
              "        78.86529982, 79.14696161, 79.42862339, 79.71028518, 79.99194696,\n",
              "        80.27360875, 80.55527053, 80.83693232, 81.1185941 , 81.40025589,\n",
              "        81.68191767, 81.96357946, 82.24524124, 82.52690303, 82.80856481,\n",
              "        83.0902266 , 83.37188838, 83.65355017, 83.93521195, 84.21687374,\n",
              "        84.49853552, 84.78019731, 85.06185909, 85.34352088, 85.62518266,\n",
              "        85.90684445, 86.18850623, 86.47016802, 86.7518298 , 87.03349159,\n",
              "        87.31515337, 87.59681516, 87.87847694, 88.16013873, 88.44180051,\n",
              "        88.7234623 , 89.00512408, 89.28678587, 89.56844765, 89.85010944,\n",
              "        90.13177122, 90.41343301, 90.69509479, 90.97675658, 91.25841836,\n",
              "        91.54008015, 91.82174193]),\n",
              " array([ 0.00000000e+00,  2.74803656e-02,  5.24868348e-02,  7.35314397e-02,\n",
              "         8.94141675e-02,  9.92896657e-02,  1.02710015e-01,  9.96415763e-02,\n",
              "         9.04555766e-02,  7.58937576e-02,  5.70119098e-02,  3.51054269e-02,\n",
              "         1.16220117e-02, -1.19326747e-02, -3.40903517e-02, -5.35104827e-02,\n",
              "        -6.90601768e-02, -7.98789456e-02, -8.54247034e-02, -8.54986703e-02,\n",
              "        -8.02482108e-02, -7.01480475e-02, -5.59616166e-02, -3.86855256e-02,\n",
              "        -1.94810370e-02,  4.02794033e-04,  1.97093129e-02,  3.72527047e-02,\n",
              "         5.19898446e-02,  6.30812704e-02,  6.99377837e-02,  7.22501774e-02,\n",
              "         7.00007075e-02,  6.34561032e-02,  5.31430619e-02,  3.98082416e-02,\n",
              "         2.43656720e-02,  7.83520618e-03, -8.72390439e-03, -2.42800441e-02,\n",
              "        -3.78926845e-02, -4.87684032e-02, -5.63061897e-02, -6.01295147e-02,\n",
              "        -6.01035354e-02, -5.63367763e-02, -4.91676154e-02, -3.91368351e-02,\n",
              "        -2.69483373e-02, -1.34207940e-02,  5.66502908e-04,  1.41300624e-02,\n",
              "         2.64373087e-02,  3.67569961e-02,  4.45019154e-02,  4.92614476e-02,\n",
              "         5.08222213e-02,  4.91759165e-02,  4.45140882e-02,  3.72106903e-02,\n",
              "         2.77937310e-02,  1.69081252e-02,  5.27230101e-03, -6.36856464e-03,\n",
              "        -1.72896770e-02, -2.68311765e-02, -3.44374121e-02, -3.96886371e-02,\n",
              "        -4.23233640e-02, -4.22502472e-02, -3.95490438e-02, -3.44608965e-02,\n",
              "        -2.73688405e-02, -1.87700177e-02, -9.24156074e-03,  5.97556170e-04,\n",
              "         1.01262108e-02,  1.87598580e-02,  2.59859025e-02,  3.13936098e-02,\n",
              "         3.46968462e-02,  3.57484301e-02,  3.45454350e-02,  3.12253653e-02,\n",
              "         2.60536965e-02,  1.94037946e-02,  1.17306775e-02,  3.54042189e-03,\n",
              "        -4.64275862e-03, -1.23096499e-02, -1.89973198e-02, -2.43166507e-02,\n",
              "        -2.79745126e-02, -2.97893443e-02, -2.96993579e-02, -2.77630579e-02,\n",
              "        -2.41522589e-02, -1.91382428e-02, -1.30721085e-02, -6.36069921e-03,\n",
              "         5.60272125e-04,  7.25414841e-03,  1.33105367e-02,  1.83701264e-02,\n",
              "         2.21456375e-02,  2.44377039e-02,  2.51448424e-02,  2.42670515e-02,\n",
              "         2.19029931e-02,  1.82411104e-02,  1.35454037e-02,  8.13689792e-03,\n",
              "         2.37207418e-03, -3.38030573e-03, -8.76249639e-03, -1.34497328e-02,\n",
              "        -1.71695311e-02, -1.97171994e-02, -2.09666967e-02, -2.08762950e-02,\n",
              "        -1.94888352e-02, -1.69267114e-02, -1.33820424e-02, -9.10277568e-03,\n",
              "        -4.37570162e-03,  4.92477943e-04,  5.19479532e-03,  9.44313339e-03,\n",
              "         1.29856376e-02,  1.56213870e-02,  1.72114873e-02,  1.76859943e-02,\n",
              "         1.70463530e-02,  1.53633252e-02,  1.27706592e-02,  9.45501438e-03,\n",
              "         5.64287218e-03,  1.58533135e-03, -2.45820691e-03, -6.23641746e-03,\n",
              "        -9.52147216e-03, -1.21225698e-02, -1.38967854e-02, -1.47566374e-02,\n",
              "        -1.46739941e-02, -1.36801763e-02, -1.18623562e-02, -9.35658008e-03,\n",
              "        -6.33794156e-03, -3.00859755e-03,  4.15567904e-04,  3.71876380e-03,\n",
              "         6.69872282e-03,  9.17891707e-03,  1.10188322e-02,  1.21217144e-02,\n",
              "         1.24393780e-02,  1.19738561e-02,  1.07758796e-02,  8.94036617e-03,\n",
              "         6.59928469e-03,  3.91241092e-03,  1.05660903e-03, -1.78565297e-03,\n",
              "        -4.43781767e-03, -6.74006495e-03, -8.55879610e-03, -9.79422220e-03,\n",
              "        -1.03856371e-02, -1.03141109e-02, -9.60250814e-03, -8.31290381e-03,\n",
              "        -6.54162990e-03, -4.41232740e-03, -2.06749096e-03,  3.40925093e-04,\n",
              "         2.66122879e-03,  4.75142623e-03,  6.48779146e-03,  7.77206118e-03,\n",
              "         8.53684455e-03,  8.74896088e-03,  8.41055509e-03,  7.55798300e-03,\n",
              "         6.25859808e-03,  4.60569767e-03,  2.71199464e-03,  7.02061622e-04,\n",
              "        -1.29575310e-03, -3.15742025e-03, -4.77083057e-03, -6.04244265e-03,\n",
              "        -6.90259029e-03, -7.30915618e-03, -7.24942863e-03, -6.74007621e-03,\n",
              "        -5.82529411e-03, -4.57328844e-03, -3.07136352e-03, -1.41995663e-03,\n",
              "         2.73979018e-04,  1.90381319e-03,  3.36986748e-03,  4.58542734e-03,\n",
              "         5.48178008e-03,  6.01199229e-03,  6.15322668e-03,  5.90749443e-03,\n",
              "         5.30083991e-03,  4.38105190e-03,  3.21408479e-03,  1.87944832e-03,\n",
              "         4.64881578e-04, -9.39337417e-04, -2.24608211e-03, -3.37671361e-03,\n",
              "        -4.26574026e-03, -4.86452947e-03, -5.14386689e-03, -5.09523570e-03,\n",
              "        -4.73077197e-03, -4.08193560e-03, -3.19701519e-03, -2.13765469e-03,\n",
              "        -9.74645027e-04,  2.16736686e-04,  1.36153784e-03,  2.38978720e-03,\n",
              "         3.24071228e-03,  3.86626708e-03,  4.23376948e-03,  4.32750906e-03,\n",
              "         4.14925371e-03,  3.71765416e-03,  3.06661408e-03,  2.24275589e-03,\n",
              "         1.30216523e-03,  3.06636790e-04, -6.80331053e-04, -1.59753639e-03,\n",
              "        -2.38981986e-03, -3.01133055e-03, -3.42812176e-03, -3.61993357e-03,\n",
              "        -3.58107390e-03, -3.32036829e-03, -2.86020729e-03, -2.23477586e-03,\n",
              "        -1.48759779e-03, -6.68566906e-04,  1.69335780e-04,  9.73425908e-04,\n",
              "         1.69458720e-03,  2.29022990e-03,  2.72676073e-03,  2.98142430e-03,\n",
              "         3.04341861e-03,  2.91423548e-03,  2.60722630e-03,  2.14644148e-03,\n",
              "         1.56483615e-03,  9.01971361e-04,  2.01367891e-04, -4.92312912e-04,\n",
              "        -1.13608103e-03, -1.69124754e-03, -2.12571356e-03, -2.41578540e-03,\n",
              "        -2.54741613e-03, -2.51681201e-03, -2.33038397e-03, -2.00406506e-03,\n",
              "        -1.56205416e-03, -1.03507998e-03, -4.58306874e-04,  1.30977423e-04,\n",
              "         6.95741936e-04,  1.20151054e-03,  1.61843718e-03,  1.92303519e-03,\n",
              "         2.09946281e-03,  2.14029695e-03,  2.04676151e-03,  1.82841103e-03,\n",
              "         1.50230456e-03,  1.09173524e-03,  6.24607221e-04,  1.31570460e-04,\n",
              "        -3.55963472e-04, -8.07797963e-04, -1.19679738e-03, -1.50049129e-03,\n",
              "        -1.70234365e-03, -1.79261745e-03, -1.76879194e-03, -1.63551920e-03,\n",
              "        -1.40413527e-03, -1.09176888e-03, -7.20114279e-04, -3.13953934e-04,\n",
              "         1.00469961e-04,  4.97129625e-04,  8.51825994e-04,  1.14364434e-03,\n",
              "         1.35616503e-03,  1.47836080e-03,  1.50513346e-03,  1.43746659e-03,\n",
              "         1.28219542e-03,  1.05141876e-03,  7.61599707e-04,  4.32419570e-04,\n",
              "         8.54632995e-05, -2.57177052e-04, -5.74291669e-04, -8.46848803e-04,\n",
              "        -1.05911902e-03, -1.19956267e-03, -1.26143185e-03, -1.24305741e-03,\n",
              "        -1.14781181e-03, -9.83759124e-04, -7.63022786e-04, -5.00918124e-04,\n",
              "        -2.14910330e-04,  7.65324793e-05,  3.55116768e-04]))"
            ]
          },
          "metadata": {},
          "execution_count": 31
        }
      ],
      "source": [
        "ctl.impulse_response(H)"
      ]
    },
    {
      "cell_type": "markdown",
      "metadata": {
        "id": "A6fEZlAHq3cF"
      },
      "source": [
        "<a id=\"p5\"></a>\n",
        "#### P5. (20 points)(level 1)\n",
        "5a) What is MQTT protocol? Explain why it is a preferred method for IoT communication. (3 points)\n",
        "\n",
        "Ans: \n",
        "\n",
        "    MQTT (Message Queuing Telemetry Transport) is an open OASIS and ISO standard (ISO/IEC 20922) lightweight, \n",
        "publish-subscribe network protocol that transports messages between devices. The protocol usually runs over TCP/IP; however, It is designed for connections with remote locations where a \"small code footprint\" is required or the network bandwidth is limited."
      ]
    },
    {
      "cell_type": "markdown",
      "metadata": {
        "id": "ENxpV_6rq3cF"
      },
      "source": [
        "5b) Explain an advantage of using millis() over delay() to specify a time period (3 points)\n",
        "\n",
        "Ans: \n",
        "\n",
        "    1st is Accurate Timing\n",
        "\n",
        "With millis() we can ensure that the loop runs as often as we want, regardless of the execution time . With delay() this is not possible since we do not know how long the loop execution time is.\n",
        "\n",
        "Accurate timing like this is very useful when sampling at a certain frequency or running filters, among other things.\n",
        "\n",
        "    2nd is Non-blocking\n",
        "\n",
        "The other advantage with millis() is that it won’t prevent us from running code while “waiting”.\n",
        "\n",
        "Let’s say we want to print “Hello” over serial once each second while doing other stuff in the meantime. This is not possible with delay() since it pauses the entire code"
      ]
    },
    {
      "cell_type": "markdown",
      "metadata": {
        "id": "BuStbrsYq3cG"
      },
      "source": [
        "5c) Explain how to use wildcard + to subscribe to a topic. (4 points)\n",
        "\n",
        "Ans:\n",
        "\n",
        "    Use the wildcard you must first make your transfers. \n",
        "When confirming the transfers, the option to play wildcard will appear and it should be selected in order for the free transfers to take effect. Once the wildcard has been confirmed, it cannot be cancelled"
      ]
    },
    {
      "cell_type": "markdown",
      "metadata": {
        "id": "4JhKCiF4q3cG"
      },
      "source": [
        "5d) If you want to publish humidity=50 and temperature=28 to device shadow in NETPIE2020, what topic should you use? \n",
        "Also form a string to publish in JSON format. (4 points)\n",
        "\n",
        "Ans:\n",
        "\n",
        "    Timeseries Database\n"
      ]
    },
    {
      "cell_type": "code",
      "execution_count": null,
      "metadata": {},
      "outputs": [],
      "source": [
        "{\n",
        " \"mappings\": {\n",
        "  \"doc\": {\n",
        "   \"properties\": {\n",
        "    \"ID\": {\"type\" : \"keyword\"},\n",
        "    \"Humidity\": {\"type\" : \"float\"},\n",
        "    \"Temperature\": {\"type\" : \"float\"},\n",
        "   }\n",
        "  }\n",
        " }\n",
        "}"
      ]
    },
    {
      "cell_type": "markdown",
      "metadata": {
        "id": "RiHCrHOLq3cH"
      },
      "source": [
        "5e) ESP8266 can accept analog input range 0 - 1 volt using 10-bit ADC. What is the voltage resolution? \n",
        "(minimum voltage that can be measured by the ADC pin.) (3 points)\n",
        "\n",
        "Ans:\n",
        "\n",
        "A 10-bit ADC has 210, or 1,024 possible output codes. So the resolution is 5V/1,024, or 4.88mV"
      ]
    },
    {
      "cell_type": "markdown",
      "metadata": {
        "id": "ivuMpQZ-q3cH"
      },
      "source": [
        "5f) Write instructions in setup() and loop() functions to print \"Hello world\" on the Serial Monitor of Arduino IDE.\n",
        "(Only one instruction is needed in each function) (3 points)"
      ]
    },
    {
      "cell_type": "code",
      "execution_count": null,
      "metadata": {},
      "outputs": [],
      "source": [
        "void setup()\n",
        "{\n",
        "    Serial.begin(9600);\n",
        "    Serial.println(\"Hello World\");\n",
        "}\n",
        "void loop()\n",
        "{\n",
        "    //none\n",
        "}"
      ]
    },
    {
      "cell_type": "markdown",
      "metadata": {
        "id": "V2RzmB1Vq3cI"
      },
      "source": [
        "<a id=\"p6\"></a>\n",
        "#### P6. (15 points)(level 2)\n",
        "\n",
        "Figure 6 shows a method to use force sensing resistor. Let $R_S = 10000*y$ Ohms. \n",
        "\n",
        "<p align=\"center\">\n",
        "<img src=\"https://drive.google.com/uc?id=1fPtZG4Q-8tUR4MA_JiQPnq4yLn56Xb00\" width=650 \n",
        "alt=\"Figure 6\"/>\n",
        "\n",
        "</p>\n",
        "<div align=\"center\"><b>Figure 6 converting force to voltage</b></div>\n",
        "<ol>\n",
        "<li />Use the force -resistance chart on the right to derive a straight line equation \n",
        "mapping between the force and ADC voltage. You can assume that the resistance of FSR is\n",
        "very high when force = 0 gram. (10 points)\n",
        "<li />Plot the line with x-axis = ADC voltage and y-axis = force (5 points)\n",
        "</ol>\n"
      ]
    },
    {
      "cell_type": "code",
      "metadata": {
        "id": "Fk3WkFukq3cJ"
      },
      "source": [
        "Rs = 10000*Y\n",
        "m = 0\n",
        "g = 9.81\n",
        "FSR = m*g"
      ],
      "execution_count": null,
      "outputs": []
    },
    {
      "cell_type": "code",
      "metadata": {
        "id": "z-3lEhHxq3cK"
      },
      "source": [
        "plt.figure()\n",
        "plt.plot(ADC,force)\n",
        "plt.grid('True')\n",
        "plt.xlabel('ADC')\n",
        "plt.ylabel('force')"
      ],
      "execution_count": null,
      "outputs": []
    },
    {
      "cell_type": "markdown",
      "metadata": {
        "id": "YXn3XFO3q3cK"
      },
      "source": [
        "<a id=\"p7\"></a>\n",
        "#### P7. (10 points)(level 2)\n",
        "For the differential amp in Figure 7, let $R_1 = 1000*x$ Ohms and $R_2 = 10000*z$ Ohms. \n",
        "Use the equation provided in the figure to simulate\n",
        "the common-mode noise rejection. The simulation result must show input and output waveforms \n",
        "similar to those in Figure 7.\n",
        "\n",
        "You can use random noise or simply high frequency sinusoid. For the circuit to work, the noise \n",
        "signals for both inputs have to be in phase and the base signals 180-degree out of phase.\n",
        "<p align=\"center\">\n",
        "<img src=\"https://drive.google.com/uc?id=1NBmzKjuhu_fh8cg1kD7u_AZPYpMoDkLf\" width=650 \n",
        "alt=\"Figure 7\"/>\n",
        "</p>\n",
        "<div align=\"center\"><b>Figure 7 Differential amplifier</b></div>\n"
      ]
    },
    {
      "cell_type": "code",
      "metadata": {
        "id": "1NpFsftgq3cL"
      },
      "source": [
        "R1 = 1000*X\n",
        "R2 = 10000*Z\n",
        "V2 = \n",
        "V1 = \n",
        "V_out = (V2-V1)*R2/R1"
      ],
      "execution_count": 34,
      "outputs": [
        {
          "output_type": "error",
          "ename": "NameError",
          "evalue": "name 'V2' is not defined",
          "traceback": [
            "\u001b[0;31m---------------------------------------------------------------------------\u001b[0m",
            "\u001b[0;31mNameError\u001b[0m                                 Traceback (most recent call last)",
            "\u001b[0;32m<ipython-input-34-0bc1e9a2ec21>\u001b[0m in \u001b[0;36m<module>\u001b[0;34m\u001b[0m\n\u001b[1;32m      1\u001b[0m \u001b[0mR1\u001b[0m \u001b[0;34m=\u001b[0m \u001b[0;36m1000\u001b[0m\u001b[0;34m*\u001b[0m\u001b[0mX\u001b[0m\u001b[0;34m\u001b[0m\u001b[0;34m\u001b[0m\u001b[0m\n\u001b[1;32m      2\u001b[0m \u001b[0mR2\u001b[0m \u001b[0;34m=\u001b[0m \u001b[0;36m10000\u001b[0m\u001b[0;34m*\u001b[0m\u001b[0mZ\u001b[0m\u001b[0;34m\u001b[0m\u001b[0;34m\u001b[0m\u001b[0m\n\u001b[0;32m----> 3\u001b[0;31m \u001b[0mV_out\u001b[0m \u001b[0;34m=\u001b[0m \u001b[0;34m(\u001b[0m\u001b[0mV2\u001b[0m\u001b[0;34m-\u001b[0m\u001b[0mV1\u001b[0m\u001b[0;34m)\u001b[0m\u001b[0;34m*\u001b[0m\u001b[0mR2\u001b[0m\u001b[0;34m/\u001b[0m\u001b[0mR1\u001b[0m\u001b[0;34m\u001b[0m\u001b[0;34m\u001b[0m\u001b[0m\n\u001b[0m",
            "\u001b[0;31mNameError\u001b[0m: name 'V2' is not defined"
          ]
        }
      ]
    },
    {
      "cell_type": "code",
      "metadata": {
        "id": "hFhJeKg_q3cL"
      },
      "source": [
        "fig, (ax1, ax2) = plt.subplots(2)\n",
        "fig.suptitle('Level shifter example')\n",
        "ax1.plot(tvec,Vin,'b-')\n",
        "ax1.grid(True)\n",
        "ax1.set_ylabel('$V_{in}(t)$')\n",
        "ax2.plot(tvec,Vout,'r-')\n",
        "ax2.set_xlabel('time (s)')\n",
        "ax2.set_ylabel('$V_{out}(t)$')\n",
        "ax2.grid(True)"
      ],
      "execution_count": 33,
      "outputs": [
        {
          "output_type": "error",
          "ename": "NameError",
          "evalue": "name 'tvec' is not defined",
          "traceback": [
            "\u001b[0;31m---------------------------------------------------------------------------\u001b[0m",
            "\u001b[0;31mNameError\u001b[0m                                 Traceback (most recent call last)",
            "\u001b[0;32m<ipython-input-33-75fed3f74277>\u001b[0m in \u001b[0;36m<module>\u001b[0;34m\u001b[0m\n\u001b[1;32m      1\u001b[0m \u001b[0mfig\u001b[0m\u001b[0;34m,\u001b[0m \u001b[0;34m(\u001b[0m\u001b[0max1\u001b[0m\u001b[0;34m,\u001b[0m \u001b[0max2\u001b[0m\u001b[0;34m)\u001b[0m \u001b[0;34m=\u001b[0m \u001b[0mplt\u001b[0m\u001b[0;34m.\u001b[0m\u001b[0msubplots\u001b[0m\u001b[0;34m(\u001b[0m\u001b[0;36m2\u001b[0m\u001b[0;34m)\u001b[0m\u001b[0;34m\u001b[0m\u001b[0;34m\u001b[0m\u001b[0m\n\u001b[1;32m      2\u001b[0m \u001b[0mfig\u001b[0m\u001b[0;34m.\u001b[0m\u001b[0msuptitle\u001b[0m\u001b[0;34m(\u001b[0m\u001b[0;34m'Level shifter example'\u001b[0m\u001b[0;34m)\u001b[0m\u001b[0;34m\u001b[0m\u001b[0;34m\u001b[0m\u001b[0m\n\u001b[0;32m----> 3\u001b[0;31m \u001b[0max1\u001b[0m\u001b[0;34m.\u001b[0m\u001b[0mplot\u001b[0m\u001b[0;34m(\u001b[0m\u001b[0mtvec\u001b[0m\u001b[0;34m,\u001b[0m\u001b[0mVin\u001b[0m\u001b[0;34m,\u001b[0m\u001b[0;34m'b-'\u001b[0m\u001b[0;34m)\u001b[0m\u001b[0;34m\u001b[0m\u001b[0;34m\u001b[0m\u001b[0m\n\u001b[0m\u001b[1;32m      4\u001b[0m \u001b[0max1\u001b[0m\u001b[0;34m.\u001b[0m\u001b[0mgrid\u001b[0m\u001b[0;34m(\u001b[0m\u001b[0;32mTrue\u001b[0m\u001b[0;34m)\u001b[0m\u001b[0;34m\u001b[0m\u001b[0;34m\u001b[0m\u001b[0m\n\u001b[1;32m      5\u001b[0m \u001b[0max1\u001b[0m\u001b[0;34m.\u001b[0m\u001b[0mset_ylabel\u001b[0m\u001b[0;34m(\u001b[0m\u001b[0;34m'$V_{in}(t)$'\u001b[0m\u001b[0;34m)\u001b[0m\u001b[0;34m\u001b[0m\u001b[0;34m\u001b[0m\u001b[0m\n",
            "\u001b[0;31mNameError\u001b[0m: name 'tvec' is not defined"
          ]
        }
      ]
    },
    {
      "cell_type": "markdown",
      "metadata": {
        "id": "rEny9IdLq3cL"
      },
      "source": [
        "<a id=\"p8\"></a>\n",
        "#### P8. (10 points)(level 3)\n",
        "Write a Python function to solve an arbitrary level-shifter circuit in Figure 8\n",
        "\n",
        "<code>\n",
        "R1, R2, R3, R4, Vb = level_shifter_design(vi_min, vi_max, vo_min, vo_max)\n",
        "</code>\n",
        "\n",
        "<p />With a set of specified min/max of $V_{in}$ and $V_{out}$, the function must choose the resistors and $V_B$ and also \n",
        "plot the input and output ranges to verify that the design is correct. None of the resistor output should be negative. \n",
        "If R3 and R4 are not needed, R3 is set to zero and R4 to a high value such as $10 M\\Omega$.\n",
        "\n",
        "<p />Validate your design with a set of arbitrary arguments. No assumption that any of the input or output should have\n",
        "zero average.\n",
        "\n",
        "<p align=\"center\">\n",
        "<img src=\"https://drive.google.com/uc?id=1fxegfWgFB09ga8cr9FjcXIro8ilacajt\" width=450 \n",
        "alt=\"Figure 8\"/>\n",
        "</p>\n",
        "<div align=\"center\"><b>Figure 8 level shifter circuit</b></div>\n"
      ]
    },
    {
      "cell_type": "code",
      "metadata": {
        "id": "v9Nsu4Ciq3cL"
      },
      "source": [],
      "execution_count": null,
      "outputs": []
    },
    {
      "cell_type": "code",
      "metadata": {
        "id": "LpeTU_Ccq3cL"
      },
      "source": [],
      "execution_count": null,
      "outputs": []
    },
    {
      "cell_type": "code",
      "metadata": {
        "id": "OlglKPbbq3cM"
      },
      "source": [],
      "execution_count": null,
      "outputs": []
    },
    {
      "cell_type": "markdown",
      "metadata": {
        "id": "cIFNadifq3cM"
      },
      "source": [
        "<div align=right>Revision A : Feb 24,2021</div>"
      ]
    }
  ]
}